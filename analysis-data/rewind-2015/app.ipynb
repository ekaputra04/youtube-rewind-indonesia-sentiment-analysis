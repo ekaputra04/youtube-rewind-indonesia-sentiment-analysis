{
 "cells": [
  {
   "cell_type": "code",
   "execution_count": 1,
   "metadata": {},
   "outputs": [],
   "source": [
    "import pandas as pd\n",
    "import os\n",
    "from sklearn.model_selection import train_test_split\n",
    "from sklearn.feature_extraction.text import TfidfVectorizer\n",
    "from sklearn.naive_bayes import MultinomialNB\n",
    "from sklearn.metrics import accuracy_score, classification_report\n",
    "from pymongo import MongoClient\n",
    "from dotenv import load_dotenv"
   ]
  },
  {
   "cell_type": "code",
   "execution_count": 2,
   "metadata": {},
   "outputs": [],
   "source": [
    "# Nama database dan collection\n",
    "db_name = 'youtube_rewind_indonesia'\n",
    "collection_label = 'labeling_2015'\n",
    "collection_name = 'full_labeling_2015'\n",
    "\n",
    "# Memuat value dari file .env\n",
    "load_dotenv()\n",
    "\n",
    "mongodb_url = os.getenv('URL_SANDY')\n",
    "local_url = os.getenv('URL_LOCAL')"
   ]
  },
  {
   "cell_type": "markdown",
   "metadata": {},
   "source": [
    "#### Mengambil data dari MongoDB ke dalam dataframe"
   ]
  },
  {
   "cell_type": "code",
   "execution_count": 3,
   "metadata": {},
   "outputs": [
    {
     "name": "stdout",
     "output_type": "stream",
     "text": [
      "Prediksi label untuk data tidak berlabel telah selesai dan diupdate dalam koleksi MongoDB.\n"
     ]
    }
   ],
   "source": [
    "# Membuat koneksi ke MongoDB\n",
    "client = MongoClient(local_url)\n",
    "db = client[db_name]  # Ganti dengan nama database Anda\n",
    "labeling_2015_collection = db[collection_label]\n",
    "full_labeling_2015_collection = db[collection_name]\n",
    "\n",
    "# Mengambil data dari koleksi MongoDB\n",
    "labeled_data = list(labeling_2015_collection.find())\n",
    "unlabeled_data = list(full_labeling_2015_collection.find())\n",
    "\n",
    "# Konversi data menjadi dataframe\n",
    "df_labeled = pd.DataFrame(labeled_data)\n",
    "df_unlabeled = pd.DataFrame(unlabeled_data)\n",
    "\n",
    "# Memisahkan fitur dan label dari data yang berlabel\n",
    "X_labeled = df_labeled['textOriginal']\n",
    "y_labeled = df_labeled['label']\n",
    "\n",
    "# Menggunakan TfidfVectorizer untuk mengubah teks menjadi fitur\n",
    "vectorizer = TfidfVectorizer()\n",
    "X_labeled_tfidf = vectorizer.fit_transform(X_labeled)\n",
    "\n",
    "# Melatih model menggunakan Naive Bayes\n",
    "model = MultinomialNB()\n",
    "model.fit(X_labeled_tfidf, y_labeled)\n",
    "\n",
    "# Memproses data yang tidak berlabel\n",
    "X_unlabeled = df_unlabeled['textOriginal']\n",
    "X_unlabeled_tfidf = vectorizer.transform(X_unlabeled)\n",
    "\n",
    "# Memprediksi label untuk data yang tidak berlabel\n",
    "y_unlabeled_pred = model.predict(X_unlabeled_tfidf)\n",
    "\n",
    "# Menambahkan prediksi ke dalam dataframe data tidak berlabel\n",
    "df_unlabeled['predicted_label'] = y_unlabeled_pred\n",
    "\n",
    "# Mengupdate koleksi MongoDB dengan prediksi label\n",
    "for index, row in df_unlabeled.iterrows():\n",
    "    full_labeling_2015_collection.update_one(\n",
    "        {\"_id\": row[\"_id\"]},\n",
    "        {\"$set\": {\"predicted_label\": row[\"predicted_label\"]}}\n",
    "    )\n",
    "\n",
    "print(\"Prediksi label untuk data tidak berlabel telah selesai dan diupdate dalam koleksi MongoDB.\")"
   ]
  },
  {
   "cell_type": "markdown",
   "metadata": {},
   "source": [
    "#### Accuracy Test (soon)"
   ]
  },
  {
   "cell_type": "code",
   "execution_count": 4,
   "metadata": {},
   "outputs": [
    {
     "name": "stdout",
     "output_type": "stream",
     "text": [
      "Data tidak berlabel tidak memiliki label asli untuk evaluasi.\n"
     ]
    }
   ],
   "source": [
    "# Jika data tidak berlabel memiliki label asli untuk keperluan evaluasi\n",
    "if 'label' in df_unlabeled.columns:\n",
    "    print(\"\\nEvaluasi kinerja model:\")\n",
    "    print(\"Accuracy Score:\", accuracy_score(df_unlabeled['label'], df_unlabeled['predicted_label']))\n",
    "    print(\"Classification Report:\\n\", classification_report(df_unlabeled['label'], df_unlabeled['predicted_label']))\n",
    "else:\n",
    "    print(\"Data tidak berlabel tidak memiliki label asli untuk evaluasi.\")"
   ]
  }
 ],
 "metadata": {
  "kernelspec": {
   "display_name": "Python 3",
   "language": "python",
   "name": "python3"
  },
  "language_info": {
   "codemirror_mode": {
    "name": "ipython",
    "version": 3
   },
   "file_extension": ".py",
   "mimetype": "text/x-python",
   "name": "python",
   "nbconvert_exporter": "python",
   "pygments_lexer": "ipython3",
   "version": "3.11.5"
  }
 },
 "nbformat": 4,
 "nbformat_minor": 2
}

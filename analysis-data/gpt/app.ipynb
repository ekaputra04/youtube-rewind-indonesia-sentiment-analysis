{
 "cells": [
  {
   "cell_type": "code",
   "execution_count": 3,
   "metadata": {},
   "outputs": [],
   "source": [
    "import pandas as pd\n",
    "import os\n",
    "from sklearn.model_selection import train_test_split\n",
    "from sklearn.feature_extraction.text import TfidfVectorizer\n",
    "from sklearn.naive_bayes import MultinomialNB\n",
    "from sklearn.metrics import accuracy_score, classification_report\n",
    "from pymongo import MongoClient\n",
    "from dotenv import load_dotenv"
   ]
  },
  {
   "cell_type": "code",
   "execution_count": 4,
   "metadata": {},
   "outputs": [],
   "source": [
    "# Nama database dan collection\n",
    "db_name = 'youtube_rewind_indonesia'\n",
    "collection_name = 'labeling_2015'\n",
    "\n",
    "# Memuat value dari file .env\n",
    "load_dotenv()\n",
    "\n",
    "mongodb_url = os.getenv('URL_SANDY')\n",
    "local_url = os.getenv('URL_LOCAL')\n",
    "\n",
    "# Membuat koneksi ke MongoDB\n",
    "client = MongoClient(local_url)\n",
    "\n",
    "db = client[db_name]\n",
    "collection = db[collection_name]"
   ]
  },
  {
   "cell_type": "code",
   "execution_count": 6,
   "metadata": {},
   "outputs": [
    {
     "name": "stdout",
     "output_type": "stream",
     "text": [
      "Prediksi label untuk data tidak berlabel telah selesai.\n"
     ]
    },
    {
     "name": "stderr",
     "output_type": "stream",
     "text": [
      "C:\\Users\\LENOVO\\AppData\\Local\\Temp\\ipykernel_3532\\2335506333.py:29: SettingWithCopyWarning: \n",
      "A value is trying to be set on a copy of a slice from a DataFrame.\n",
      "Try using .loc[row_indexer,col_indexer] = value instead\n",
      "\n",
      "See the caveats in the documentation: https://pandas.pydata.org/pandas-docs/stable/user_guide/indexing.html#returning-a-view-versus-a-copy\n",
      "  df_unlabeled['predicted_sentiment'] = y_unlabeled_pred\n"
     ]
    }
   ],
   "source": [
    "# Mengambil data dari MongoDB ke dalam dataframe\n",
    "data = list(collection.find())\n",
    "df = pd.DataFrame(data)\n",
    "\n",
    "# Memisahkan data yang berlabel (2.000) dan tidak berlabel (8.000)\n",
    "df_labeled = df.iloc[:2000]  # 2.000 data yang berlabel\n",
    "df_unlabeled = df.iloc[2000:]  # 8.000 data yang tidak berlabel\n",
    "\n",
    "# Memisahkan fitur dan label dari data yang berlabel\n",
    "X_labeled = df_labeled['textOriginal']\n",
    "y_labeled = df_labeled['label']\n",
    "\n",
    "# Menggunakan TfidfVectorizer untuk mengubah teks menjadi fitur\n",
    "vectorizer = TfidfVectorizer()\n",
    "X_labeled_tfidf = vectorizer.fit_transform(X_labeled)\n",
    "\n",
    "# Melatih model menggunakan Naive Bayes\n",
    "model = MultinomialNB()\n",
    "model.fit(X_labeled_tfidf, y_labeled)\n",
    "\n",
    "# Memproses data yang tidak berlabel\n",
    "X_unlabeled = df_unlabeled['textOriginal']\n",
    "X_unlabeled_tfidf = vectorizer.transform(X_unlabeled)\n",
    "\n",
    "# Memprediksi label untuk data yang tidak berlabel\n",
    "y_unlabeled_pred = model.predict(X_unlabeled_tfidf)\n",
    "\n",
    "# Menambahkan prediksi ke dalam dataframe data tidak berlabel\n",
    "df_unlabeled['predicted_sentiment'] = y_unlabeled_pred\n",
    "\n",
    "# Menyimpan hasil prediksi ke dalam file CSV\n",
    "df_unlabeled.to_csv('unlabeled_data_with_predictions.csv', index=False)\n",
    "\n",
    "print(\"Prediksi label untuk data tidak berlabel telah selesai.\")\n"
   ]
  }
 ],
 "metadata": {
  "kernelspec": {
   "display_name": "Python 3",
   "language": "python",
   "name": "python3"
  },
  "language_info": {
   "codemirror_mode": {
    "name": "ipython",
    "version": 3
   },
   "file_extension": ".py",
   "mimetype": "text/x-python",
   "name": "python",
   "nbconvert_exporter": "python",
   "pygments_lexer": "ipython3",
   "version": "3.11.5"
  }
 },
 "nbformat": 4,
 "nbformat_minor": 2
}

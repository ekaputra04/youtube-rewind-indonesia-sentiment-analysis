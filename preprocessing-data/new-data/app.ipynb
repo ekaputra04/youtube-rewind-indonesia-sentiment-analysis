{
 "cells": [
  {
   "cell_type": "code",
   "execution_count": 1,
   "metadata": {},
   "outputs": [],
   "source": [
    "import os\n",
    "from pymongo import MongoClient\n",
    "from dotenv import load_dotenv\n",
    "import pandas as pd"
   ]
  },
  {
   "cell_type": "code",
   "execution_count": 2,
   "metadata": {},
   "outputs": [],
   "source": [
    "# Muat file .env untuk mendapatkan URL MongoDB\n",
    "load_dotenv()\n",
    "\n",
    "mongodb_url = os.getenv('URL_LOCAL')\n",
    "db_name = 'youtube_rewind_indonesia'\n",
    "collection_name = 'full_labeling_all_new'\n",
    "\n",
    "# Koneksi ke MongoDB\n",
    "client = MongoClient(mongodb_url)\n",
    "db = client[db_name]\n",
    "collection = db[collection_name]"
   ]
  },
  {
   "cell_type": "code",
   "execution_count": 5,
   "metadata": {},
   "outputs": [
    {
     "name": "stdout",
     "output_type": "stream",
     "text": [
      "Proses normalisasi selesai.\n"
     ]
    }
   ],
   "source": [
    "# Baca kamus dasar bahasa Indonesia\n",
    "with open('../../dictionary/kamus-dasar-bahasa-indonesia-new.txt', 'r', encoding='utf-8') as f:\n",
    "    kamus = set(word.strip() for word in f.readlines())\n",
    "\n",
    "# Inisialisasi list untuk menyimpan kata yang tidak ada di kamus\n",
    "no_words = []\n",
    "\n",
    "# Fungsi untuk normalisasi teks\n",
    "def normalisasi(teks):\n",
    "    kata_kata = teks.split()\n",
    "    after_normalisasi = []\n",
    "    for kata in kata_kata:\n",
    "        if kata in kamus:\n",
    "            after_normalisasi.append(kata)\n",
    "        else:\n",
    "            no_words.append(kata)\n",
    "            return None  # Jika ada kata yang tidak ditemukan di kamus, kembalikan None\n",
    "    return ' '.join(after_normalisasi)\n",
    "\n",
    "# Ambil data dari MongoDB\n",
    "data = list(collection.find())\n",
    "\n",
    "# Proses setiap dokumen\n",
    "for doc in data:\n",
    "    text_original = doc.get('textOriginal', '')\n",
    "    after_normalisasi = normalisasi(text_original)\n",
    "    collection.update_one(\n",
    "        {'_id': doc['_id']},\n",
    "        {'$set': {'afterNormalisasi': after_normalisasi}}\n",
    "    )\n",
    "\n",
    "# Simpan kata yang tidak ditemukan dalam file CSV\n",
    "if no_words:\n",
    "    df_no_words = pd.DataFrame(no_words, columns=['word'])\n",
    "    df_no_words.to_csv('../../dictionary/no-word-round-3.csv', index=False)\n",
    "\n",
    "print(\"Proses normalisasi selesai.\")"
   ]
  },
  {
   "cell_type": "markdown",
   "metadata": {},
   "source": [
    "# Tahap Normalisasi Kembali Berdasarkan Kamus"
   ]
  },
  {
   "cell_type": "code",
   "execution_count": 4,
   "metadata": {},
   "outputs": [
    {
     "name": "stdout",
     "output_type": "stream",
     "text": [
      "Normalisasi selesai.\n"
     ]
    }
   ],
   "source": [
    "# Muat data dari file no-word-clean.csv\n",
    "df_clean = pd.read_csv('../../dictionary/no-word-full.csv')\n",
    "\n",
    "# Buat kamus untuk normalisasi\n",
    "normalization_dict = pd.Series(df_clean.clean.values, index=df_clean.word).to_dict()\n",
    "\n",
    "# Fungsi untuk normalisasi teks\n",
    "def normalize_text(text, normalization_dict):\n",
    "    words = text.split()\n",
    "    normalized_words = [normalization_dict.get(word, word) for word in words]\n",
    "    return ' '.join(normalized_words)\n",
    "\n",
    "# Koneksi ke MongoDB\n",
    "client = MongoClient(mongodb_url)\n",
    "db = client[db_name]\n",
    "collection = db[\"full_labeling_all_new\"]\n",
    "\n",
    "# Cari dokumen dengan textOriginal tidak null\n",
    "documents = collection.find({\"textOriginal\": {\"$ne\": None}})\n",
    "\n",
    "# Lakukan normalisasi dan perbarui dokumen\n",
    "for doc in documents:\n",
    "    original_text = doc['textOriginal']\n",
    "    normalized_text = normalize_text(original_text, normalization_dict)\n",
    "    \n",
    "    # Perbarui dokumen di MongoDB\n",
    "    collection.update_one({\"_id\": doc[\"_id\"]}, {\"$set\": {\"textOriginal\": normalized_text}})\n",
    "\n",
    "print(\"Normalisasi selesai.\")\n"
   ]
  }
 ],
 "metadata": {
  "kernelspec": {
   "display_name": "Python 3",
   "language": "python",
   "name": "python3"
  },
  "language_info": {
   "codemirror_mode": {
    "name": "ipython",
    "version": 3
   },
   "file_extension": ".py",
   "mimetype": "text/x-python",
   "name": "python",
   "nbconvert_exporter": "python",
   "pygments_lexer": "ipython3",
   "version": "3.11.5"
  }
 },
 "nbformat": 4,
 "nbformat_minor": 2
}

{
 "cells": [
  {
   "cell_type": "code",
   "execution_count": 1,
   "metadata": {},
   "outputs": [],
   "source": [
    "import os\n",
    "from pymongo import MongoClient\n",
    "from dotenv import load_dotenv\n",
    "import pandas as pd"
   ]
  },
  {
   "cell_type": "code",
   "execution_count": 2,
   "metadata": {},
   "outputs": [],
   "source": [
    "# Muat file .env untuk mendapatkan URL MongoDB\n",
    "load_dotenv()\n",
    "\n",
    "mongodb_url = os.getenv('URL_LOCAL')\n",
    "db_name = 'youtube_rewind_indonesia'\n",
    "collection_name = 'full_labeling_all_new'\n",
    "\n",
    "# Koneksi ke MongoDB\n",
    "client = MongoClient(mongodb_url)\n",
    "db = client[db_name]\n",
    "collection = db[collection_name]"
   ]
  },
  {
   "cell_type": "code",
   "execution_count": 3,
   "metadata": {},
   "outputs": [
    {
     "name": "stdout",
     "output_type": "stream",
     "text": [
      "Normalisasi selesai.\n"
     ]
    }
   ],
   "source": [
    "# Baca file CSV yang berisi data normalisasi\n",
    "df_clean = pd.read_csv('../../dictionary/normalisasi-full.csv')\n",
    "\n",
    "# Buat kamus untuk normalisasi\n",
    "normalization_dict = pd.Series(df_clean['normalisasi'].values, index=df_clean['word']).to_dict()\n",
    "\n",
    "# Fungsi untuk normalisasi teks\n",
    "def normalize_text(text, normalization_dict):\n",
    "    words = text.split()\n",
    "    normalized_words = [normalization_dict.get(word, word) for word in words]\n",
    "    return ' '.join(normalized_words)\n",
    "\n",
    "# Cari dokumen dengan textOriginal tidak null\n",
    "documents = collection.find({\"textOriginal\": {\"$ne\": None}})\n",
    "\n",
    "# Lakukan normalisasi dan perbarui dokumen\n",
    "for doc in documents:\n",
    "    original_text = doc['textOriginal']\n",
    "    normalized_text = normalize_text(original_text, normalization_dict)\n",
    "    \n",
    "    # Perbarui dokumen di MongoDB\n",
    "    collection.update_one({\"_id\": doc[\"_id\"]}, {\"$set\": {\"textOriginal\": normalized_text}})\n",
    "\n",
    "print(\"Normalisasi selesai.\")\n"
   ]
  }
 ],
 "metadata": {
  "kernelspec": {
   "display_name": "Python 3",
   "language": "python",
   "name": "python3"
  },
  "language_info": {
   "codemirror_mode": {
    "name": "ipython",
    "version": 3
   },
   "file_extension": ".py",
   "mimetype": "text/x-python",
   "name": "python",
   "nbconvert_exporter": "python",
   "pygments_lexer": "ipython3",
   "version": "3.11.5"
  }
 },
 "nbformat": 4,
 "nbformat_minor": 2
}

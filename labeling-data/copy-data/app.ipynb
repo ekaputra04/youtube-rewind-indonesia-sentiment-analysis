{
 "cells": [
  {
   "cell_type": "markdown",
   "metadata": {},
   "source": [
    "# Copy data dari preprocessing ke labeling dan full labeling (ML)"
   ]
  },
  {
   "cell_type": "code",
   "execution_count": 6,
   "metadata": {},
   "outputs": [
    {
     "name": "stdout",
     "output_type": "stream",
     "text": [
      "2000 data pertama dari collection preprocessing_2023 berhasil dicopy ke labeling_2023.\n"
     ]
    }
   ],
   "source": [
    "from pymongo import MongoClient\n",
    "\n",
    "# Membuat koneksi ke MongoDB\n",
    "client = MongoClient('mongodb://localhost:27017/')\n",
    "\n",
    "# Nama database\n",
    "db_name = 'youtube_rewind_indonesia'\n",
    "db = client[db_name]\n",
    "\n",
    "# Nama collection yang akan di-copy\n",
    "original_collection_name = 'preprocessing_2023'\n",
    "new_collection_name = 'labeling_2023'\n",
    "\n",
    "# Mengambil data dari collection asli (hanya 2000 data pertama)\n",
    "original_collection = db[original_collection_name]\n",
    "data = list(original_collection.find().limit(2000))\n",
    "\n",
    "# Memasukkan data ke collection baru\n",
    "if data:\n",
    "    new_collection = db[new_collection_name]\n",
    "    new_collection.insert_many(data)\n",
    "\n",
    "print(f\"2000 data pertama dari collection {original_collection_name} berhasil dicopy ke {new_collection_name}.\")\n"
   ]
  },
  {
   "cell_type": "code",
   "execution_count": 6,
   "metadata": {},
   "outputs": [
    {
     "name": "stdout",
     "output_type": "stream",
     "text": [
      "Semua data dari collection preprocessing_2023 berhasil dicopy ke full_labeling_2023.\n"
     ]
    }
   ],
   "source": [
    "from pymongo import MongoClient\n",
    "\n",
    "# Membuat koneksi ke MongoDB\n",
    "client = MongoClient('mongodb://localhost:27017/')\n",
    "\n",
    "# Nama database\n",
    "db_name = 'youtube_rewind_indonesia'\n",
    "db = client[db_name]\n",
    "\n",
    "# Nama collection yang akan di-copy\n",
    "original_collection_name = 'preprocessing_2023'\n",
    "new_collection_name = 'full_labeling_2023'\n",
    "\n",
    "# Mengambil data dari collection asli (hanya 2000 data pertama)\n",
    "original_collection = db[original_collection_name]\n",
    "data = list(original_collection.find())\n",
    "\n",
    "# Memasukkan data ke collection baru\n",
    "if data:\n",
    "    new_collection = db[new_collection_name]\n",
    "    new_collection.insert_many(data)\n",
    "\n",
    "print(f\"Semua data dari collection {original_collection_name} berhasil dicopy ke {new_collection_name}.\")\n"
   ]
  }
 ],
 "metadata": {
  "kernelspec": {
   "display_name": "Python 3",
   "language": "python",
   "name": "python3"
  },
  "language_info": {
   "codemirror_mode": {
    "name": "ipython",
    "version": 3
   },
   "file_extension": ".py",
   "mimetype": "text/x-python",
   "name": "python",
   "nbconvert_exporter": "python",
   "pygments_lexer": "ipython3",
   "version": "3.11.5"
  }
 },
 "nbformat": 4,
 "nbformat_minor": 2
}

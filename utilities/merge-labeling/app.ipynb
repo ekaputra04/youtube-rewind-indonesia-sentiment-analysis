{
 "cells": [
  {
   "cell_type": "code",
   "execution_count": 6,
   "metadata": {},
   "outputs": [
    {
     "name": "stdout",
     "output_type": "stream",
     "text": [
      "Duplikasi dan penambahan atribut selesai.\n"
     ]
    }
   ],
   "source": [
    "import pymongo\n",
    "\n",
    "collection_name = \"labeling_2023\"\n",
    "video_id = \"Q5vQawTFJ0I\"\n",
    "\n",
    "# Koneksi ke MongoDB\n",
    "client = pymongo.MongoClient(\"mongodb://localhost:27017/\")\n",
    "db = client[\"youtube_rewind_indonesia\"]\n",
    "labeling_old_collection = db[collection_name]\n",
    "labeling_full_collection = db[\"labeling_all\"]\n",
    "\n",
    "# Mengambil semua data dari koleksi labeling_2015\n",
    "data = list(labeling_old_collection.find())\n",
    "\n",
    "# Menambahkan atribut videoId ke setiap dokumen dan menyimpan ke koleksi baru\n",
    "for document in data:\n",
    "    document['videoId'] = video_id\n",
    "    labeling_full_collection.insert_one(document)\n",
    "\n",
    "print(\"Duplikasi dan penambahan atribut selesai.\")\n"
   ]
  }
 ],
 "metadata": {
  "kernelspec": {
   "display_name": "Python 3",
   "language": "python",
   "name": "python3"
  },
  "language_info": {
   "codemirror_mode": {
    "name": "ipython",
    "version": 3
   },
   "file_extension": ".py",
   "mimetype": "text/x-python",
   "name": "python",
   "nbconvert_exporter": "python",
   "pygments_lexer": "ipython3",
   "version": "3.11.5"
  }
 },
 "nbformat": 4,
 "nbformat_minor": 2
}

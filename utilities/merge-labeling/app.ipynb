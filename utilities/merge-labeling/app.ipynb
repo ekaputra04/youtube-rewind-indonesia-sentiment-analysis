{
 "cells": [
  {
   "cell_type": "code",
   "execution_count": 7,
   "metadata": {},
   "outputs": [
    {
     "name": "stdout",
     "output_type": "stream",
     "text": [
      "Duplikasi 1202 selesai.\n"
     ]
    }
   ],
   "source": [
    "import pymongo\n",
    "\n",
    "tahun = 2023\n",
    "collection_name = f\"labeling_new_{tahun}\"\n",
    "\n",
    "# Koneksi ke MongoDB\n",
    "client = pymongo.MongoClient(\"mongodb://localhost:27017/\")\n",
    "db = client[\"youtube_rewind_indonesia\"]\n",
    "labeling_old_collection = db[collection_name]\n",
    "labeling_full_collection = db[\"labeling_all_new\"]\n",
    "\n",
    "# Mengambil semua data dari koleksi labeling_tahun\n",
    "data = list(labeling_old_collection.find())\n",
    "\n",
    "# Menambahkan atribut videoId ke setiap dokumen dan menyimpan ke koleksi baru\n",
    "for document in data:\n",
    "    labeling_full_collection.insert_one(document)\n",
    "\n",
    "print(f\"Duplikasi {len(data)} selesai.\")"
   ]
  }
 ],
 "metadata": {
  "kernelspec": {
   "display_name": "Python 3",
   "language": "python",
   "name": "python3"
  },
  "language_info": {
   "codemirror_mode": {
    "name": "ipython",
    "version": 3
   },
   "file_extension": ".py",
   "mimetype": "text/x-python",
   "name": "python",
   "nbconvert_exporter": "python",
   "pygments_lexer": "ipython3",
   "version": "3.11.5"
  }
 },
 "nbformat": 4,
 "nbformat_minor": 2
}

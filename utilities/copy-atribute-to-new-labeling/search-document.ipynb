{
 "cells": [
  {
   "cell_type": "code",
   "execution_count": 8,
   "metadata": {},
   "outputs": [
    {
     "name": "stdout",
     "output_type": "stream",
     "text": [
      "Proses penggabungan selesai.\n"
     ]
    }
   ],
   "source": [
    "from pymongo import MongoClient\n",
    "\n",
    "tahun = 2023\n",
    "\n",
    "# Koneksi ke MongoDB\n",
    "client = MongoClient('mongodb://localhost:27017/')  # Sesuaikan dengan URI MongoDB Anda\n",
    "db = client['youtube_rewind_indonesia']  # Ganti dengan nama database Anda\n",
    "\n",
    "# Koleksi\n",
    "labeling_2015 = db[f'labeling_{tahun}']\n",
    "preprocessing_new_2015 = db[f'preprocessing_new_{tahun}']\n",
    "labeling_new_2015 = db[f'labeling_new_{tahun}']\n",
    "\n",
    "# Mengambil semua data dari labeling_tahun\n",
    "labeling_data = list(labeling_2015.find())\n",
    "\n",
    "for label in labeling_data:\n",
    "    text_original = label['textOriginal']\n",
    "    \n",
    "    # Mencari data yang sesuai di preprocessing_new_tahun\n",
    "    preprocessed_data = preprocessing_new_2015.find_one({'textOriginal': text_original})\n",
    "    \n",
    "    if preprocessed_data:\n",
    "        # Menggabungkan data dan mempertahankan _id dari preprocessing_new_tahun\n",
    "        merged_data = {**preprocessed_data, **label}\n",
    "        \n",
    "        # Memasukkan data yang sudah digabungkan ke labeling_new_tahun\n",
    "        labeling_new_2015.insert_one(merged_data)\n",
    "\n",
    "print(\"Proses penggabungan selesai.\")\n"
   ]
  }
 ],
 "metadata": {
  "kernelspec": {
   "display_name": "Python 3",
   "language": "python",
   "name": "python3"
  },
  "language_info": {
   "codemirror_mode": {
    "name": "ipython",
    "version": 3
   },
   "file_extension": ".py",
   "mimetype": "text/x-python",
   "name": "python",
   "nbconvert_exporter": "python",
   "pygments_lexer": "ipython3",
   "version": "3.11.5"
  }
 },
 "nbformat": 4,
 "nbformat_minor": 2
}

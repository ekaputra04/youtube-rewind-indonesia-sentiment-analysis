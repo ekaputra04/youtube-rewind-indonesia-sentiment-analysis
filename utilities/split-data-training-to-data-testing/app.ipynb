{
 "cells": [
  {
   "cell_type": "markdown",
   "metadata": {},
   "source": [
    "# Memilih data training dari data hasil preprocessing"
   ]
  },
  {
   "cell_type": "code",
   "execution_count": null,
   "metadata": {},
   "outputs": [],
   "source": [
    "from pymongo import MongoClient\n",
    "import random\n",
    "\n",
    "# Koneksi ke MongoDB\n",
    "client = MongoClient('mongodb://localhost:27017/') \n",
    "db = client['youtube_rewind_indonesia']  \n",
    "labeling_collection = db['labeling_all_new']\n",
    "training_collection = db['data_training_new']\n",
    "\n",
    "# Mengambil semua dokumen dari koleksi dan mengelompokkan berdasarkan label\n",
    "data_by_label = {}\n",
    "for doc in labeling_collection.find():\n",
    "    label = doc['label']\n",
    "    if label not in data_by_label:\n",
    "        data_by_label[label] = []\n",
    "    data_by_label[label].append(doc)\n",
    "\n",
    "# Menentukan jumlah data yang diinginkan dari setiap kelas\n",
    "num_samples_per_class = 333\n",
    "\n",
    "# Memilih data secara acak dari setiap kelas\n",
    "random_docs = []\n",
    "for label, docs in data_by_label.items():\n",
    "    if len(docs) >= num_samples_per_class:\n",
    "        random_docs.extend(random.sample(docs, num_samples_per_class))\n",
    "    else:\n",
    "        print(f\"Warning: Only {len(docs)} samples available for label '{label}'\")\n",
    "\n",
    "# Menyimpan dokumen acak ke koleksi baru\n",
    "training_collection.insert_many(random_docs)\n",
    "\n",
    "print(\"Proses pemilihan dan penyimpanan data acak selesai.\")\n"
   ]
  },
  {
   "cell_type": "markdown",
   "metadata": {},
   "source": [
    "# Memilih data testing dari data training"
   ]
  },
  {
   "cell_type": "code",
   "execution_count": 2,
   "metadata": {},
   "outputs": [
    {
     "name": "stdout",
     "output_type": "stream",
     "text": [
      "Proses pemilihan dan penyimpanan data acak selesai.\n"
     ]
    }
   ],
   "source": [
    "from pymongo import MongoClient\n",
    "import random\n",
    "\n",
    "# Koneksi ke MongoDB\n",
    "client = MongoClient('mongodb://localhost:27017/') \n",
    "db = client['youtube_rewind_indonesia']  \n",
    "training_collection = db['data_training_new']\n",
    "testing_collection = db['data_testing_new']\n",
    "\n",
    "# Mengambil semua dokumen dari koleksi dan mengelompokkan berdasarkan label\n",
    "data_by_label = {}\n",
    "for doc in training_collection.find():\n",
    "    label = doc['label']\n",
    "    if label not in data_by_label:\n",
    "        data_by_label[label] = []\n",
    "    data_by_label[label].append(doc)\n",
    "\n",
    "# Menentukan jumlah data yang diinginkan dari setiap kelas\n",
    "num_samples_per_class = 333\n",
    "\n",
    "# Memilih data secara acak dari setiap kelas\n",
    "random_docs = []\n",
    "for label, docs in data_by_label.items():\n",
    "    if len(docs) >= num_samples_per_class:\n",
    "        random_docs.extend(random.sample(docs, num_samples_per_class))\n",
    "    else:\n",
    "        print(f\"Warning: Only {len(docs)} samples available for label '{label}'\")\n",
    "\n",
    "# Menyimpan dokumen acak ke koleksi baru\n",
    "testing_collection.insert_many(random_docs)\n",
    "\n",
    "print(\"Proses pemilihan dan penyimpanan data acak selesai.\")\n"
   ]
  }
 ],
 "metadata": {
  "kernelspec": {
   "display_name": "Python 3",
   "language": "python",
   "name": "python3"
  },
  "language_info": {
   "codemirror_mode": {
    "name": "ipython",
    "version": 3
   },
   "file_extension": ".py",
   "mimetype": "text/x-python",
   "name": "python",
   "nbconvert_exporter": "python",
   "pygments_lexer": "ipython3",
   "version": "3.11.5"
  }
 },
 "nbformat": 4,
 "nbformat_minor": 2
}

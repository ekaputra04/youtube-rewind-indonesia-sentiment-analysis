{
 "cells": [
  {
   "cell_type": "code",
   "execution_count": 6,
   "metadata": {},
   "outputs": [
    {
     "name": "stdout",
     "output_type": "stream",
     "text": [
      "Duplikasi dan penambahan atribut selesai.\n"
     ]
    }
   ],
   "source": [
    "import pymongo\n",
    "\n",
    "tahun = 2023\n",
    "collection_name = f\"preprocessing_new_{tahun}\"\n",
    "collection_full_labeling = \"full_labeling_all_new\"\n",
    "\n",
    "# Koneksi ke MongoDB\n",
    "client = pymongo.MongoClient(\"mongodb://localhost:27017/\")\n",
    "db = client[\"youtube_rewind_indonesia\"]\n",
    "preprocessing_collection = db[collection_name]\n",
    "labeling_full_collection = db[collection_full_labeling]\n",
    "\n",
    "# Mengambil 10.000 data acak dari koleksi preprocessing\n",
    "pipeline = [\n",
    "    {\"$sample\": {\"size\": 10000}}\n",
    "]\n",
    "data = list(preprocessing_collection.aggregate(pipeline))\n",
    "\n",
    "# Menambahkan atribut videoId ke setiap dokumen dan menyimpan ke koleksi baru\n",
    "for document in data:\n",
    "    labeling_full_collection.insert_one(document)\n",
    "\n",
    "print(\"Duplikasi dan penambahan atribut selesai.\")"
   ]
  }
 ],
 "metadata": {
  "kernelspec": {
   "display_name": "Python 3",
   "language": "python",
   "name": "python3"
  },
  "language_info": {
   "codemirror_mode": {
    "name": "ipython",
    "version": 3
   },
   "file_extension": ".py",
   "mimetype": "text/x-python",
   "name": "python",
   "nbconvert_exporter": "python",
   "pygments_lexer": "ipython3",
   "version": "3.11.5"
  }
 },
 "nbformat": 4,
 "nbformat_minor": 2
}

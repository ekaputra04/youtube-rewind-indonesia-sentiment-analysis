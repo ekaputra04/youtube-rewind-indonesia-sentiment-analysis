{
 "cells": [
  {
   "cell_type": "code",
   "execution_count": 2,
   "metadata": {},
   "outputs": [
    {
     "name": "stdout",
     "output_type": "stream",
     "text": [
      "Atribut predicted_label berhasil dihapus dari semua dokumen.\n"
     ]
    }
   ],
   "source": [
    "import os\n",
    "from pymongo import MongoClient\n",
    "from dotenv import load_dotenv\n",
    "\n",
    "db_name = 'youtube_rewind_indonesia'\n",
    "collection_name = 'full_labeling_all'\n",
    "\n",
    "# Memuat value dari file .env\n",
    "load_dotenv()\n",
    "\n",
    "mongodb_url = os.getenv('URL_SANDY')\n",
    "local_url = os.getenv('URL_LOCAL')\n",
    "\n",
    "# Membuat koneksi ke MongoDB\n",
    "client = MongoClient(local_url)\n",
    "db = client[db_name]\n",
    "collection = db[collection_name]\n",
    "\n",
    "# Menghapus atribut predicted_label dari semua dokumen\n",
    "collection.update_many({}, {\"$unset\": {\"predicted_label\": \"\"}})\n",
    "\n",
    "print(\"Atribut predicted_label berhasil dihapus dari semua dokumen.\")\n"
   ]
  }
 ],
 "metadata": {
  "kernelspec": {
   "display_name": "Python 3",
   "language": "python",
   "name": "python3"
  },
  "language_info": {
   "codemirror_mode": {
    "name": "ipython",
    "version": 3
   },
   "file_extension": ".py",
   "mimetype": "text/x-python",
   "name": "python",
   "nbconvert_exporter": "python",
   "pygments_lexer": "ipython3",
   "version": "3.11.5"
  }
 },
 "nbformat": 4,
 "nbformat_minor": 2
}

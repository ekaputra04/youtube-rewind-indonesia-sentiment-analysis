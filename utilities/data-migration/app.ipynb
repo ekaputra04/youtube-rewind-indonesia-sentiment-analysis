{
 "cells": [
  {
   "cell_type": "markdown",
   "metadata": {},
   "source": [
    "# Migrasi dari MongoDB Lokal ke MongoDB Atlas"
   ]
  },
  {
   "cell_type": "code",
   "execution_count": 45,
   "metadata": {},
   "outputs": [],
   "source": [
    "from dotenv import load_dotenv\n",
    "from pymongo import MongoClient\n",
    "import os\n",
    "import pandas as pd"
   ]
  },
  {
   "cell_type": "code",
   "execution_count": 46,
   "metadata": {},
   "outputs": [],
   "source": [
    "# Memuat value dari file .env\n",
    "load_dotenv()\n",
    "\n",
    "mongodb_url = os.getenv('URL_SANDY')\n",
    "local_url = os.getenv('URL_LOCAL')"
   ]
  },
  {
   "cell_type": "code",
   "execution_count": 47,
   "metadata": {},
   "outputs": [],
   "source": [
    "database_local_name = \"youtube_rewind_indonesia\"\n",
    "database_atlas_name = \"analisisSentimenYTRewind\"\n",
    "collection_from = \"preprocessing_2023\"\n",
    "collection_name = \"preprocessingData2023\""
   ]
  },
  {
   "cell_type": "code",
   "execution_count": 48,
   "metadata": {},
   "outputs": [
    {
     "name": "stdout",
     "output_type": "stream",
     "text": [
      "10000 dokumen berhasil dipindahkan dari MongoDB lokal ke MongoDB Atlas.\n"
     ]
    }
   ],
   "source": [
    "# Koneksi ke MongoDB lokal\n",
    "local_client = MongoClient(local_url)\n",
    "local_db = local_client[database_local_name]\n",
    "local_collection = local_db[collection_from]\n",
    "\n",
    "# Koneksi ke MongoDB Atlas\n",
    "atlas_client = MongoClient(mongodb_url)\n",
    "atlas_db = atlas_client[database_atlas_name]\n",
    "atlas_collection = atlas_db[collection_name]\n",
    "\n",
    "# Ambil semua dokumen dari koleksi MongoDB lokal\n",
    "documents = list(local_collection.find())\n",
    "\n",
    "# Masukkan dokumen ke MongoDB Atlas\n",
    "if documents:\n",
    "    atlas_collection.insert_many(documents)\n",
    "    print(f'{len(documents)} dokumen berhasil dipindahkan dari MongoDB lokal ke MongoDB Atlas.')\n",
    "else:\n",
    "    print('Tidak ada dokumen yang ditemukan di MongoDB lokal.')\n",
    "\n",
    "# Tutup koneksi\n",
    "local_client.close()\n",
    "atlas_client.close()"
   ]
  }
 ],
 "metadata": {
  "kernelspec": {
   "display_name": "Python 3",
   "language": "python",
   "name": "python3"
  },
  "language_info": {
   "codemirror_mode": {
    "name": "ipython",
    "version": 3
   },
   "file_extension": ".py",
   "mimetype": "text/x-python",
   "name": "python",
   "nbconvert_exporter": "python",
   "pygments_lexer": "ipython3",
   "version": "3.11.5"
  }
 },
 "nbformat": 4,
 "nbformat_minor": 2
}

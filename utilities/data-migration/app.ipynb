{
 "cells": [
  {
   "cell_type": "markdown",
   "metadata": {},
   "source": [
    "# Migrasi dari MongoDB Lokal ke MongoDB Atlas"
   ]
  },
  {
   "cell_type": "code",
   "execution_count": 6,
   "metadata": {},
   "outputs": [],
   "source": [
    "from dotenv import load_dotenv\n",
    "from pymongo import MongoClient\n",
    "import os"
   ]
  },
  {
   "cell_type": "code",
   "execution_count": 7,
   "metadata": {},
   "outputs": [],
   "source": [
    "# Memuat value dari file .env\n",
    "load_dotenv()\n",
    "\n",
    "mongodb_url = os.getenv('URL_EKA')\n",
    "local_url = os.getenv('URL_LOCAL')"
   ]
  },
  {
   "cell_type": "code",
   "execution_count": 8,
   "metadata": {},
   "outputs": [],
   "source": [
    "db_name = \"youtube_rewind_indonesia\"\n",
    "collection_name = \"collect_2016\""
   ]
  },
  {
   "cell_type": "code",
   "execution_count": 9,
   "metadata": {},
   "outputs": [],
   "source": [
    "database_local_name = db_name\n",
    "database_atlas_name = db_name\n",
    "collection_from = collection_name\n",
    "collection_name = collection_name"
   ]
  },
  {
   "cell_type": "code",
   "execution_count": 10,
   "metadata": {},
   "outputs": [
    {
     "name": "stdout",
     "output_type": "stream",
     "text": [
      "70135 dokumen berhasil dipindahkan dari MongoDB lokal ke MongoDB Atlas.\n"
     ]
    }
   ],
   "source": [
    "# Koneksi ke MongoDB lokal\n",
    "local_client = MongoClient(local_url)\n",
    "local_db = local_client[database_local_name]\n",
    "local_collection = local_db[collection_from]\n",
    "\n",
    "# Koneksi ke MongoDB Atlas\n",
    "atlas_client = MongoClient(mongodb_url)\n",
    "atlas_db = atlas_client[database_atlas_name]\n",
    "atlas_collection = atlas_db[collection_name]\n",
    "\n",
    "# Ambil semua dokumen dari koleksi MongoDB lokal\n",
    "documents = list(local_collection.find())\n",
    "\n",
    "# Masukkan dokumen ke MongoDB Atlas\n",
    "if documents:\n",
    "    atlas_collection.insert_many(documents)\n",
    "    print(f'{len(documents)} dokumen berhasil dipindahkan dari MongoDB lokal ke MongoDB Atlas.')\n",
    "else:\n",
    "    print('Tidak ada dokumen yang ditemukan di MongoDB lokal.')\n",
    "\n",
    "# Tutup koneksi\n",
    "local_client.close()\n",
    "atlas_client.close()"
   ]
  }
 ],
 "metadata": {
  "kernelspec": {
   "display_name": "Python 3",
   "language": "python",
   "name": "python3"
  },
  "language_info": {
   "codemirror_mode": {
    "name": "ipython",
    "version": 3
   },
   "file_extension": ".py",
   "mimetype": "text/x-python",
   "name": "python",
   "nbconvert_exporter": "python",
   "pygments_lexer": "ipython3",
   "version": "3.11.5"
  }
 },
 "nbformat": 4,
 "nbformat_minor": 2
}

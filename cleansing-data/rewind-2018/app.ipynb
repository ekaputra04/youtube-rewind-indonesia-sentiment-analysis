{
 "cells": [
  {
   "cell_type": "markdown",
   "metadata": {},
   "source": [
    "# Cleansing Data Youtube Rewind 2018"
   ]
  },
  {
   "cell_type": "markdown",
   "metadata": {},
   "source": [
    "#### Import Library"
   ]
  },
  {
   "cell_type": "code",
   "execution_count": 1,
   "metadata": {},
   "outputs": [],
   "source": [
    "from dotenv import load_dotenv\n",
    "from pymongo import MongoClient\n",
    "import os\n",
    "import pandas as pd"
   ]
  },
  {
   "cell_type": "markdown",
   "metadata": {},
   "source": [
    "#### Import url dari .env"
   ]
  },
  {
   "cell_type": "code",
   "execution_count": 2,
   "metadata": {},
   "outputs": [],
   "source": [
    "# Memuat value dari file .env\n",
    "load_dotenv()\n",
    "\n",
    "mongodb_url = os.getenv('URL_SANDY')\n",
    "local_url = os.getenv('URL_LOCAL')"
   ]
  },
  {
   "cell_type": "code",
   "execution_count": 3,
   "metadata": {},
   "outputs": [],
   "source": [
    "database_name = \"youtube_rewind_indonesia\"\n",
    "collection_from = \"collect_2018\"\n",
    "collection_name = \"cleansing_2018\""
   ]
  },
  {
   "cell_type": "markdown",
   "metadata": {},
   "source": [
    "#### Import dataset dari MongoDB"
   ]
  },
  {
   "cell_type": "code",
   "execution_count": 4,
   "metadata": {},
   "outputs": [],
   "source": [
    "# Koneksi ke MongoDB\n",
    "client = MongoClient(local_url)\n",
    "\n",
    "# Pilih database dan koleksi\n",
    "db = client[database_name]\n",
    "collection = db[collection_from]\n",
    "\n",
    "# Query data dari koleksi\n",
    "cursor = collection.find()\n",
    "\n",
    "# Konversi cursor ke list dan kemudian ke DataFrame\n",
    "data = list(cursor)\n",
    "df = pd.DataFrame(data)\n",
    "\n",
    "# Menutup koneksi\n",
    "client.close()"
   ]
  },
  {
   "cell_type": "code",
   "execution_count": 5,
   "metadata": {},
   "outputs": [
    {
     "data": {
      "text/html": [
       "<div>\n",
       "<style scoped>\n",
       "    .dataframe tbody tr th:only-of-type {\n",
       "        vertical-align: middle;\n",
       "    }\n",
       "\n",
       "    .dataframe tbody tr th {\n",
       "        vertical-align: top;\n",
       "    }\n",
       "\n",
       "    .dataframe thead th {\n",
       "        text-align: right;\n",
       "    }\n",
       "</style>\n",
       "<table border=\"1\" class=\"dataframe\">\n",
       "  <thead>\n",
       "    <tr style=\"text-align: right;\">\n",
       "      <th></th>\n",
       "      <th>_id</th>\n",
       "      <th>channelId</th>\n",
       "      <th>videoId</th>\n",
       "      <th>textDisplay</th>\n",
       "      <th>textOriginal</th>\n",
       "      <th>authorDisplayName</th>\n",
       "      <th>authorProfileImageUrl</th>\n",
       "      <th>authorChannelUrl</th>\n",
       "      <th>authorChannelId</th>\n",
       "      <th>canRate</th>\n",
       "      <th>viewerRating</th>\n",
       "      <th>likeCount</th>\n",
       "      <th>publishedAt</th>\n",
       "      <th>updatedAt</th>\n",
       "    </tr>\n",
       "  </thead>\n",
       "  <tbody>\n",
       "    <tr>\n",
       "      <th>0</th>\n",
       "      <td>6651606257713e470060633e</td>\n",
       "      <td>UC-z1ubmS-iHMVr83EEwRS2g</td>\n",
       "      <td>mCyITaDib7M</td>\n",
       "      <td>Hellow</td>\n",
       "      <td>Hellow</td>\n",
       "      <td>@azkaranuri6676</td>\n",
       "      <td>https://yt3.ggpht.com/A0rqQbMrRkVy7KLsE6h9tf0_...</td>\n",
       "      <td>http://www.youtube.com/@azkaranuri6676</td>\n",
       "      <td>{'value': 'UCyJBWQd3SWIhC4Qf5jkj3fw'}</td>\n",
       "      <td>True</td>\n",
       "      <td>none</td>\n",
       "      <td>1</td>\n",
       "      <td>2024-05-19T14:29:29Z</td>\n",
       "      <td>2024-05-19T14:29:29Z</td>\n",
       "    </tr>\n",
       "    <tr>\n",
       "      <th>1</th>\n",
       "      <td>6651606257713e470060633f</td>\n",
       "      <td>UC-z1ubmS-iHMVr83EEwRS2g</td>\n",
       "      <td>mCyITaDib7M</td>\n",
       "      <td>Kangenn Dehh.. 🥶😭</td>\n",
       "      <td>Kangenn Dehh.. 🥶😭</td>\n",
       "      <td>@BLUEBERRY_ICE.</td>\n",
       "      <td>https://yt3.ggpht.com/hJaeCYyM3zkG27NAwy7ns5LT...</td>\n",
       "      <td>http://www.youtube.com/@BLUEBERRY_ICE.</td>\n",
       "      <td>{'value': 'UC88wvpSGHdSO6JxhJslPUIg'}</td>\n",
       "      <td>True</td>\n",
       "      <td>none</td>\n",
       "      <td>1</td>\n",
       "      <td>2024-05-14T19:30:18Z</td>\n",
       "      <td>2024-05-14T19:30:18Z</td>\n",
       "    </tr>\n",
       "    <tr>\n",
       "      <th>2</th>\n",
       "      <td>6651606257713e4700606340</td>\n",
       "      <td>UC-z1ubmS-iHMVr83EEwRS2g</td>\n",
       "      <td>mCyITaDib7M</td>\n",
       "      <td>Dari 2024 😄</td>\n",
       "      <td>Dari 2024 😄</td>\n",
       "      <td>@Justkhanza__</td>\n",
       "      <td>https://yt3.ggpht.com/6SUOHpxm8zO3JNtlcQRN0VHv...</td>\n",
       "      <td>http://www.youtube.com/@Justkhanza__</td>\n",
       "      <td>{'value': 'UCkHt-bEqfLHFuMKfZQkD5GA'}</td>\n",
       "      <td>True</td>\n",
       "      <td>none</td>\n",
       "      <td>1</td>\n",
       "      <td>2024-05-13T04:57:26Z</td>\n",
       "      <td>2024-05-13T04:57:26Z</td>\n",
       "    </tr>\n",
       "    <tr>\n",
       "      <th>3</th>\n",
       "      <td>6651606257713e4700606341</td>\n",
       "      <td>UC-z1ubmS-iHMVr83EEwRS2g</td>\n",
       "      <td>mCyITaDib7M</td>\n",
       "      <td>Baru nonton di tahun 2024</td>\n",
       "      <td>Baru nonton di tahun 2024</td>\n",
       "      <td>@aryafajrin4802</td>\n",
       "      <td>https://yt3.ggpht.com/ytc/AIdro_lzu5d-GRupA7fc...</td>\n",
       "      <td>http://www.youtube.com/@aryafajrin4802</td>\n",
       "      <td>{'value': 'UCwvkANb4DwMMA_315JnN8iw'}</td>\n",
       "      <td>True</td>\n",
       "      <td>none</td>\n",
       "      <td>3</td>\n",
       "      <td>2024-05-10T04:30:23Z</td>\n",
       "      <td>2024-05-10T04:30:23Z</td>\n",
       "    </tr>\n",
       "    <tr>\n",
       "      <th>4</th>\n",
       "      <td>6651606257713e4700606342</td>\n",
       "      <td>UC-z1ubmS-iHMVr83EEwRS2g</td>\n",
       "      <td>mCyITaDib7M</td>\n",
       "      <td>2018 ternyata 6th lalu</td>\n",
       "      <td>2018 ternyata 6th lalu</td>\n",
       "      <td>@clyzea</td>\n",
       "      <td>https://yt3.ggpht.com/e7d9_hgTBHJoCEpP_WgnB-SH...</td>\n",
       "      <td>http://www.youtube.com/@clyzea</td>\n",
       "      <td>{'value': 'UCOyGgAgp33A3lXP_eP0mB6A'}</td>\n",
       "      <td>True</td>\n",
       "      <td>none</td>\n",
       "      <td>2</td>\n",
       "      <td>2024-05-09T13:57:23Z</td>\n",
       "      <td>2024-05-09T13:57:23Z</td>\n",
       "    </tr>\n",
       "    <tr>\n",
       "      <th>...</th>\n",
       "      <td>...</td>\n",
       "      <td>...</td>\n",
       "      <td>...</td>\n",
       "      <td>...</td>\n",
       "      <td>...</td>\n",
       "      <td>...</td>\n",
       "      <td>...</td>\n",
       "      <td>...</td>\n",
       "      <td>...</td>\n",
       "      <td>...</td>\n",
       "      <td>...</td>\n",
       "      <td>...</td>\n",
       "      <td>...</td>\n",
       "      <td>...</td>\n",
       "    </tr>\n",
       "    <tr>\n",
       "      <th>111459</th>\n",
       "      <td>6651619157713e47006216a1</td>\n",
       "      <td>UC-z1ubmS-iHMVr83EEwRS2g</td>\n",
       "      <td>mCyITaDib7M</td>\n",
       "      <td>setelah lama menanti wkwk</td>\n",
       "      <td>setelah lama menanti wkwk</td>\n",
       "      <td>@erlanggasp5492</td>\n",
       "      <td>https://yt3.ggpht.com/ytc/AIdro_kPkXrD0JhY2huK...</td>\n",
       "      <td>http://www.youtube.com/@erlanggasp5492</td>\n",
       "      <td>{'value': 'UCMcfKWq5kyLPeFgjaAHxQJw'}</td>\n",
       "      <td>True</td>\n",
       "      <td>none</td>\n",
       "      <td>4</td>\n",
       "      <td>2018-12-14T15:26:35Z</td>\n",
       "      <td>2018-12-14T15:27:05Z</td>\n",
       "    </tr>\n",
       "    <tr>\n",
       "      <th>111460</th>\n",
       "      <td>6651619157713e47006216a2</td>\n",
       "      <td>UC-z1ubmS-iHMVr83EEwRS2g</td>\n",
       "      <td>mCyITaDib7M</td>\n",
       "      <td>mantap</td>\n",
       "      <td>mantap</td>\n",
       "      <td>@rianr7336</td>\n",
       "      <td>https://yt3.ggpht.com/ytc/AIdro_lDYfVzt_oCeQFG...</td>\n",
       "      <td>http://www.youtube.com/@rianr7336</td>\n",
       "      <td>{'value': 'UCbnrnwv3t9NKUcMNnpz7kXw'}</td>\n",
       "      <td>True</td>\n",
       "      <td>none</td>\n",
       "      <td>0</td>\n",
       "      <td>2018-12-14T15:26:35Z</td>\n",
       "      <td>2018-12-14T15:26:35Z</td>\n",
       "    </tr>\n",
       "    <tr>\n",
       "      <th>111461</th>\n",
       "      <td>6651619157713e47006216a3</td>\n",
       "      <td>UC-z1ubmS-iHMVr83EEwRS2g</td>\n",
       "      <td>mCyITaDib7M</td>\n",
       "      <td>Aloha</td>\n",
       "      <td>Aloha</td>\n",
       "      <td>@nick.8697</td>\n",
       "      <td>https://yt3.ggpht.com/RrBhVBns4BCdpe785raxfCtM...</td>\n",
       "      <td>http://www.youtube.com/@nick.8697</td>\n",
       "      <td>{'value': 'UCm4c1gl6Y1JFjDW3MvaiN9A'}</td>\n",
       "      <td>True</td>\n",
       "      <td>none</td>\n",
       "      <td>0</td>\n",
       "      <td>2018-12-14T15:26:35Z</td>\n",
       "      <td>2018-12-14T15:26:35Z</td>\n",
       "    </tr>\n",
       "    <tr>\n",
       "      <th>111462</th>\n",
       "      <td>6651619157713e47006216a4</td>\n",
       "      <td>UC-z1ubmS-iHMVr83EEwRS2g</td>\n",
       "      <td>mCyITaDib7M</td>\n",
       "      <td>PINK GUY - セックス大好き</td>\n",
       "      <td>PINK GUY - セックス大好き</td>\n",
       "      <td>@azaryapranata1108</td>\n",
       "      <td>https://yt3.ggpht.com/ytc/AIdro_k_cCFPZI6jfrqr...</td>\n",
       "      <td>http://www.youtube.com/@azaryapranata1108</td>\n",
       "      <td>{'value': 'UC776SuFEkMZ-PS-7Pjt0tDg'}</td>\n",
       "      <td>True</td>\n",
       "      <td>none</td>\n",
       "      <td>0</td>\n",
       "      <td>2018-12-14T15:26:35Z</td>\n",
       "      <td>2018-12-14T15:26:35Z</td>\n",
       "    </tr>\n",
       "    <tr>\n",
       "      <th>111463</th>\n",
       "      <td>6651619157713e47006216a5</td>\n",
       "      <td>UC-z1ubmS-iHMVr83EEwRS2g</td>\n",
       "      <td>mCyITaDib7M</td>\n",
       "      <td>SMA SANTA MARIA-Pekanbaru selalu memberikan ya...</td>\n",
       "      <td>SMA SANTA MARIA-Pekanbaru selalu memberikan ya...</td>\n",
       "      <td>@mishaeljehoshua</td>\n",
       "      <td>https://yt3.ggpht.com/ppU9UKoTkEeWvS_8JSPAindV...</td>\n",
       "      <td>http://www.youtube.com/@mishaeljehoshua</td>\n",
       "      <td>{'value': 'UCNp_TMaBm_ecH1ta4V_FZ1A'}</td>\n",
       "      <td>True</td>\n",
       "      <td>none</td>\n",
       "      <td>48</td>\n",
       "      <td>2018-12-14T15:26:27Z</td>\n",
       "      <td>2018-12-14T15:26:27Z</td>\n",
       "    </tr>\n",
       "  </tbody>\n",
       "</table>\n",
       "<p>111464 rows × 14 columns</p>\n",
       "</div>"
      ],
      "text/plain": [
       "                             _id                 channelId      videoId  \\\n",
       "0       6651606257713e470060633e  UC-z1ubmS-iHMVr83EEwRS2g  mCyITaDib7M   \n",
       "1       6651606257713e470060633f  UC-z1ubmS-iHMVr83EEwRS2g  mCyITaDib7M   \n",
       "2       6651606257713e4700606340  UC-z1ubmS-iHMVr83EEwRS2g  mCyITaDib7M   \n",
       "3       6651606257713e4700606341  UC-z1ubmS-iHMVr83EEwRS2g  mCyITaDib7M   \n",
       "4       6651606257713e4700606342  UC-z1ubmS-iHMVr83EEwRS2g  mCyITaDib7M   \n",
       "...                          ...                       ...          ...   \n",
       "111459  6651619157713e47006216a1  UC-z1ubmS-iHMVr83EEwRS2g  mCyITaDib7M   \n",
       "111460  6651619157713e47006216a2  UC-z1ubmS-iHMVr83EEwRS2g  mCyITaDib7M   \n",
       "111461  6651619157713e47006216a3  UC-z1ubmS-iHMVr83EEwRS2g  mCyITaDib7M   \n",
       "111462  6651619157713e47006216a4  UC-z1ubmS-iHMVr83EEwRS2g  mCyITaDib7M   \n",
       "111463  6651619157713e47006216a5  UC-z1ubmS-iHMVr83EEwRS2g  mCyITaDib7M   \n",
       "\n",
       "                                              textDisplay  \\\n",
       "0                                                  Hellow   \n",
       "1                                       Kangenn Dehh.. 🥶😭   \n",
       "2                                             Dari 2024 😄   \n",
       "3                               Baru nonton di tahun 2024   \n",
       "4                                  2018 ternyata 6th lalu   \n",
       "...                                                   ...   \n",
       "111459                          setelah lama menanti wkwk   \n",
       "111460                                             mantap   \n",
       "111461                                              Aloha   \n",
       "111462                                 PINK GUY - セックス大好き   \n",
       "111463  SMA SANTA MARIA-Pekanbaru selalu memberikan ya...   \n",
       "\n",
       "                                             textOriginal   authorDisplayName  \\\n",
       "0                                                  Hellow     @azkaranuri6676   \n",
       "1                                       Kangenn Dehh.. 🥶😭     @BLUEBERRY_ICE.   \n",
       "2                                             Dari 2024 😄       @Justkhanza__   \n",
       "3                               Baru nonton di tahun 2024     @aryafajrin4802   \n",
       "4                                  2018 ternyata 6th lalu             @clyzea   \n",
       "...                                                   ...                 ...   \n",
       "111459                          setelah lama menanti wkwk     @erlanggasp5492   \n",
       "111460                                             mantap          @rianr7336   \n",
       "111461                                              Aloha          @nick.8697   \n",
       "111462                                 PINK GUY - セックス大好き  @azaryapranata1108   \n",
       "111463  SMA SANTA MARIA-Pekanbaru selalu memberikan ya...    @mishaeljehoshua   \n",
       "\n",
       "                                    authorProfileImageUrl  \\\n",
       "0       https://yt3.ggpht.com/A0rqQbMrRkVy7KLsE6h9tf0_...   \n",
       "1       https://yt3.ggpht.com/hJaeCYyM3zkG27NAwy7ns5LT...   \n",
       "2       https://yt3.ggpht.com/6SUOHpxm8zO3JNtlcQRN0VHv...   \n",
       "3       https://yt3.ggpht.com/ytc/AIdro_lzu5d-GRupA7fc...   \n",
       "4       https://yt3.ggpht.com/e7d9_hgTBHJoCEpP_WgnB-SH...   \n",
       "...                                                   ...   \n",
       "111459  https://yt3.ggpht.com/ytc/AIdro_kPkXrD0JhY2huK...   \n",
       "111460  https://yt3.ggpht.com/ytc/AIdro_lDYfVzt_oCeQFG...   \n",
       "111461  https://yt3.ggpht.com/RrBhVBns4BCdpe785raxfCtM...   \n",
       "111462  https://yt3.ggpht.com/ytc/AIdro_k_cCFPZI6jfrqr...   \n",
       "111463  https://yt3.ggpht.com/ppU9UKoTkEeWvS_8JSPAindV...   \n",
       "\n",
       "                                 authorChannelUrl  \\\n",
       "0          http://www.youtube.com/@azkaranuri6676   \n",
       "1          http://www.youtube.com/@BLUEBERRY_ICE.   \n",
       "2            http://www.youtube.com/@Justkhanza__   \n",
       "3          http://www.youtube.com/@aryafajrin4802   \n",
       "4                  http://www.youtube.com/@clyzea   \n",
       "...                                           ...   \n",
       "111459     http://www.youtube.com/@erlanggasp5492   \n",
       "111460          http://www.youtube.com/@rianr7336   \n",
       "111461          http://www.youtube.com/@nick.8697   \n",
       "111462  http://www.youtube.com/@azaryapranata1108   \n",
       "111463    http://www.youtube.com/@mishaeljehoshua   \n",
       "\n",
       "                              authorChannelId  canRate viewerRating  \\\n",
       "0       {'value': 'UCyJBWQd3SWIhC4Qf5jkj3fw'}     True         none   \n",
       "1       {'value': 'UC88wvpSGHdSO6JxhJslPUIg'}     True         none   \n",
       "2       {'value': 'UCkHt-bEqfLHFuMKfZQkD5GA'}     True         none   \n",
       "3       {'value': 'UCwvkANb4DwMMA_315JnN8iw'}     True         none   \n",
       "4       {'value': 'UCOyGgAgp33A3lXP_eP0mB6A'}     True         none   \n",
       "...                                       ...      ...          ...   \n",
       "111459  {'value': 'UCMcfKWq5kyLPeFgjaAHxQJw'}     True         none   \n",
       "111460  {'value': 'UCbnrnwv3t9NKUcMNnpz7kXw'}     True         none   \n",
       "111461  {'value': 'UCm4c1gl6Y1JFjDW3MvaiN9A'}     True         none   \n",
       "111462  {'value': 'UC776SuFEkMZ-PS-7Pjt0tDg'}     True         none   \n",
       "111463  {'value': 'UCNp_TMaBm_ecH1ta4V_FZ1A'}     True         none   \n",
       "\n",
       "        likeCount           publishedAt             updatedAt  \n",
       "0               1  2024-05-19T14:29:29Z  2024-05-19T14:29:29Z  \n",
       "1               1  2024-05-14T19:30:18Z  2024-05-14T19:30:18Z  \n",
       "2               1  2024-05-13T04:57:26Z  2024-05-13T04:57:26Z  \n",
       "3               3  2024-05-10T04:30:23Z  2024-05-10T04:30:23Z  \n",
       "4               2  2024-05-09T13:57:23Z  2024-05-09T13:57:23Z  \n",
       "...           ...                   ...                   ...  \n",
       "111459          4  2018-12-14T15:26:35Z  2018-12-14T15:27:05Z  \n",
       "111460          0  2018-12-14T15:26:35Z  2018-12-14T15:26:35Z  \n",
       "111461          0  2018-12-14T15:26:35Z  2018-12-14T15:26:35Z  \n",
       "111462          0  2018-12-14T15:26:35Z  2018-12-14T15:26:35Z  \n",
       "111463         48  2018-12-14T15:26:27Z  2018-12-14T15:26:27Z  \n",
       "\n",
       "[111464 rows x 14 columns]"
      ]
     },
     "execution_count": 5,
     "metadata": {},
     "output_type": "execute_result"
    }
   ],
   "source": [
    "df"
   ]
  },
  {
   "cell_type": "markdown",
   "metadata": {},
   "source": [
    "#### Menghapus data text yang duplikat"
   ]
  },
  {
   "cell_type": "code",
   "execution_count": 6,
   "metadata": {},
   "outputs": [
    {
     "data": {
      "text/plain": [
       "(101952, 14)"
      ]
     },
     "execution_count": 6,
     "metadata": {},
     "output_type": "execute_result"
    }
   ],
   "source": [
    "df = df.drop_duplicates(subset=['textOriginal'])\n",
    "\n",
    "df.shape"
   ]
  },
  {
   "cell_type": "markdown",
   "metadata": {},
   "source": [
    "#### Menghapus data author yang duplikat"
   ]
  },
  {
   "cell_type": "code",
   "execution_count": 7,
   "metadata": {},
   "outputs": [
    {
     "data": {
      "text/plain": [
       "(92038, 14)"
      ]
     },
     "execution_count": 7,
     "metadata": {},
     "output_type": "execute_result"
    }
   ],
   "source": [
    "df = df.drop_duplicates(subset=['authorChannelUrl'])\n",
    "\n",
    "df.shape"
   ]
  },
  {
   "cell_type": "markdown",
   "metadata": {},
   "source": [
    "#### Menghilangkan atribut yang tidak diperlukan"
   ]
  },
  {
   "cell_type": "markdown",
   "metadata": {},
   "source": [
    "Karena hanya menganalisis komentar, maka atribut yang disisakan hanya _id dan textOriginal"
   ]
  },
  {
   "cell_type": "code",
   "execution_count": 8,
   "metadata": {},
   "outputs": [
    {
     "data": {
      "text/html": [
       "<div>\n",
       "<style scoped>\n",
       "    .dataframe tbody tr th:only-of-type {\n",
       "        vertical-align: middle;\n",
       "    }\n",
       "\n",
       "    .dataframe tbody tr th {\n",
       "        vertical-align: top;\n",
       "    }\n",
       "\n",
       "    .dataframe thead th {\n",
       "        text-align: right;\n",
       "    }\n",
       "</style>\n",
       "<table border=\"1\" class=\"dataframe\">\n",
       "  <thead>\n",
       "    <tr style=\"text-align: right;\">\n",
       "      <th></th>\n",
       "      <th>_id</th>\n",
       "      <th>textOriginal</th>\n",
       "    </tr>\n",
       "  </thead>\n",
       "  <tbody>\n",
       "    <tr>\n",
       "      <th>0</th>\n",
       "      <td>6651606257713e470060633e</td>\n",
       "      <td>Hellow</td>\n",
       "    </tr>\n",
       "    <tr>\n",
       "      <th>1</th>\n",
       "      <td>6651606257713e470060633f</td>\n",
       "      <td>Kangenn Dehh.. 🥶😭</td>\n",
       "    </tr>\n",
       "    <tr>\n",
       "      <th>2</th>\n",
       "      <td>6651606257713e4700606340</td>\n",
       "      <td>Dari 2024 😄</td>\n",
       "    </tr>\n",
       "    <tr>\n",
       "      <th>3</th>\n",
       "      <td>6651606257713e4700606341</td>\n",
       "      <td>Baru nonton di tahun 2024</td>\n",
       "    </tr>\n",
       "    <tr>\n",
       "      <th>4</th>\n",
       "      <td>6651606257713e4700606342</td>\n",
       "      <td>2018 ternyata 6th lalu</td>\n",
       "    </tr>\n",
       "    <tr>\n",
       "      <th>...</th>\n",
       "      <td>...</td>\n",
       "      <td>...</td>\n",
       "    </tr>\n",
       "    <tr>\n",
       "      <th>111453</th>\n",
       "      <td>6651619157713e470062169b</td>\n",
       "      <td>Yuhuuuuuuu</td>\n",
       "    </tr>\n",
       "    <tr>\n",
       "      <th>111454</th>\n",
       "      <td>6651619157713e470062169c</td>\n",
       "      <td>Mantulll:)</td>\n",
       "    </tr>\n",
       "    <tr>\n",
       "      <th>111457</th>\n",
       "      <td>6651619157713e470062169f</td>\n",
       "      <td>Di like dlu pasti nya</td>\n",
       "    </tr>\n",
       "    <tr>\n",
       "      <th>111458</th>\n",
       "      <td>6651619157713e47006216a0</td>\n",
       "      <td>Yt rewind indo 2018 sangat keren !!!\\nSangat b...</td>\n",
       "    </tr>\n",
       "    <tr>\n",
       "      <th>111459</th>\n",
       "      <td>6651619157713e47006216a1</td>\n",
       "      <td>setelah lama menanti wkwk</td>\n",
       "    </tr>\n",
       "  </tbody>\n",
       "</table>\n",
       "<p>92038 rows × 2 columns</p>\n",
       "</div>"
      ],
      "text/plain": [
       "                             _id  \\\n",
       "0       6651606257713e470060633e   \n",
       "1       6651606257713e470060633f   \n",
       "2       6651606257713e4700606340   \n",
       "3       6651606257713e4700606341   \n",
       "4       6651606257713e4700606342   \n",
       "...                          ...   \n",
       "111453  6651619157713e470062169b   \n",
       "111454  6651619157713e470062169c   \n",
       "111457  6651619157713e470062169f   \n",
       "111458  6651619157713e47006216a0   \n",
       "111459  6651619157713e47006216a1   \n",
       "\n",
       "                                             textOriginal  \n",
       "0                                                  Hellow  \n",
       "1                                       Kangenn Dehh.. 🥶😭  \n",
       "2                                             Dari 2024 😄  \n",
       "3                               Baru nonton di tahun 2024  \n",
       "4                                  2018 ternyata 6th lalu  \n",
       "...                                                   ...  \n",
       "111453                                         Yuhuuuuuuu  \n",
       "111454                                         Mantulll:)  \n",
       "111457                              Di like dlu pasti nya  \n",
       "111458  Yt rewind indo 2018 sangat keren !!!\\nSangat b...  \n",
       "111459                          setelah lama menanti wkwk  \n",
       "\n",
       "[92038 rows x 2 columns]"
      ]
     },
     "execution_count": 8,
     "metadata": {},
     "output_type": "execute_result"
    }
   ],
   "source": [
    "df = df[['_id', 'textOriginal']]\n",
    "df"
   ]
  },
  {
   "cell_type": "markdown",
   "metadata": {},
   "source": [
    "#### Menghapus nilai yang kosong"
   ]
  },
  {
   "cell_type": "code",
   "execution_count": 9,
   "metadata": {},
   "outputs": [
    {
     "data": {
      "text/plain": [
       "_id             0\n",
       "textOriginal    0\n",
       "dtype: int64"
      ]
     },
     "execution_count": 9,
     "metadata": {},
     "output_type": "execute_result"
    }
   ],
   "source": [
    "df = df.dropna()\n",
    "\n",
    "# Melihat data yang kosong\n",
    "df.isnull().sum()"
   ]
  },
  {
   "cell_type": "markdown",
   "metadata": {},
   "source": [
    "Dari yang awalnya berjumlah 111464 row berkurang menjadi 92038 row"
   ]
  },
  {
   "cell_type": "markdown",
   "metadata": {},
   "source": [
    "#### Mengimpan Clean Comments ke MongoDB Local"
   ]
  },
  {
   "cell_type": "code",
   "execution_count": 10,
   "metadata": {},
   "outputs": [
    {
     "name": "stdout",
     "output_type": "stream",
     "text": [
      "Data berhasil diimpor ke MongoDB Local.\n"
     ]
    }
   ],
   "source": [
    "# Koneksi ke MongoDB\n",
    "client = MongoClient(local_url)\n",
    "db = client[database_name]\n",
    "collection = db[collection_name]\n",
    "\n",
    "# Konversi DataFrame ke bentuk dictionary\n",
    "records = df.to_dict(orient='records')\n",
    "\n",
    "# Menyisipkan data ke MongoDB\n",
    "collection.insert_many(records)\n",
    "\n",
    "print(\"Data berhasil diimpor ke MongoDB Local.\")"
   ]
  }
 ],
 "metadata": {
  "kernelspec": {
   "display_name": "Python 3",
   "language": "python",
   "name": "python3"
  },
  "language_info": {
   "codemirror_mode": {
    "name": "ipython",
    "version": 3
   },
   "file_extension": ".py",
   "mimetype": "text/x-python",
   "name": "python",
   "nbconvert_exporter": "python",
   "pygments_lexer": "ipython3",
   "version": "3.11.5"
  }
 },
 "nbformat": 4,
 "nbformat_minor": 2
}

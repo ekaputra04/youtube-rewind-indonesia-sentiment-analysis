{
 "cells": [
  {
   "cell_type": "markdown",
   "metadata": {},
   "source": [
    "# Cleansing Data Youtube Rewind 2016"
   ]
  },
  {
   "cell_type": "markdown",
   "metadata": {},
   "source": [
    "#### Import Library"
   ]
  },
  {
   "cell_type": "code",
   "execution_count": 1,
   "metadata": {},
   "outputs": [],
   "source": [
    "from dotenv import load_dotenv\n",
    "from pymongo import MongoClient\n",
    "import os\n",
    "import pandas as pd"
   ]
  },
  {
   "cell_type": "markdown",
   "metadata": {},
   "source": [
    "#### Import url dari .env"
   ]
  },
  {
   "cell_type": "code",
   "execution_count": 2,
   "metadata": {},
   "outputs": [],
   "source": [
    "# Memuat value dari file .env\n",
    "load_dotenv()\n",
    "\n",
    "mongodb_url = os.getenv('URL_SANDY')\n",
    "local_url = os.getenv('URL_LOCAL')"
   ]
  },
  {
   "cell_type": "code",
   "execution_count": 3,
   "metadata": {},
   "outputs": [],
   "source": [
    "database_name = \"youtube_rewind_indonesia\"\n",
    "collection_from = \"collect_2016\"\n",
    "collection_name = \"cleansing_2016\""
   ]
  },
  {
   "cell_type": "markdown",
   "metadata": {},
   "source": [
    "#### Import dataset dari MongoDB"
   ]
  },
  {
   "cell_type": "code",
   "execution_count": 4,
   "metadata": {},
   "outputs": [],
   "source": [
    "# Koneksi ke MongoDB\n",
    "client = MongoClient(local_url)\n",
    "\n",
    "# Pilih database dan koleksi\n",
    "db = client[database_name]\n",
    "collection = db[collection_from]\n",
    "\n",
    "# Query data dari koleksi\n",
    "cursor = collection.find()\n",
    "\n",
    "# Konversi cursor ke list dan kemudian ke DataFrame\n",
    "data = list(cursor)\n",
    "df = pd.DataFrame(data)\n",
    "\n",
    "# Menutup koneksi\n",
    "client.close()"
   ]
  },
  {
   "cell_type": "code",
   "execution_count": 5,
   "metadata": {},
   "outputs": [
    {
     "data": {
      "text/html": [
       "<div>\n",
       "<style scoped>\n",
       "    .dataframe tbody tr th:only-of-type {\n",
       "        vertical-align: middle;\n",
       "    }\n",
       "\n",
       "    .dataframe tbody tr th {\n",
       "        vertical-align: top;\n",
       "    }\n",
       "\n",
       "    .dataframe thead th {\n",
       "        text-align: right;\n",
       "    }\n",
       "</style>\n",
       "<table border=\"1\" class=\"dataframe\">\n",
       "  <thead>\n",
       "    <tr style=\"text-align: right;\">\n",
       "      <th></th>\n",
       "      <th>_id</th>\n",
       "      <th>channelId</th>\n",
       "      <th>videoId</th>\n",
       "      <th>textDisplay</th>\n",
       "      <th>textOriginal</th>\n",
       "      <th>authorDisplayName</th>\n",
       "      <th>authorProfileImageUrl</th>\n",
       "      <th>authorChannelUrl</th>\n",
       "      <th>authorChannelId</th>\n",
       "      <th>canRate</th>\n",
       "      <th>viewerRating</th>\n",
       "      <th>likeCount</th>\n",
       "      <th>publishedAt</th>\n",
       "      <th>updatedAt</th>\n",
       "    </tr>\n",
       "  </thead>\n",
       "  <tbody>\n",
       "    <tr>\n",
       "      <th>0</th>\n",
       "      <td>66515ed9d882d1f847df446f</td>\n",
       "      <td>UC-z1ubmS-iHMVr83EEwRS2g</td>\n",
       "      <td>1ZIGLm5cuDo</td>\n",
       "      <td>Rewind paling bnyk memori soalnya di jaman itu...</td>\n",
       "      <td>Rewind paling bnyk memori soalnya di jaman itu...</td>\n",
       "      <td>@Fiammawan1</td>\n",
       "      <td>https://yt3.ggpht.com/_e9Fqq5cqPF2-9fSB3Uuu3-H...</td>\n",
       "      <td>http://www.youtube.com/@Fiammawan1</td>\n",
       "      <td>{'value': 'UCI8jUOlXNKU9hL9GAoM2E3w'}</td>\n",
       "      <td>True</td>\n",
       "      <td>none</td>\n",
       "      <td>2</td>\n",
       "      <td>2024-05-24T18:10:30Z</td>\n",
       "      <td>2024-05-24T18:10:30Z</td>\n",
       "    </tr>\n",
       "    <tr>\n",
       "      <th>1</th>\n",
       "      <td>66515ed9d882d1f847df4470</td>\n",
       "      <td>UC-z1ubmS-iHMVr83EEwRS2g</td>\n",
       "      <td>1ZIGLm5cuDo</td>\n",
       "      <td>&lt;a href=\"https://www.youtube.com/watch?v=1ZIGL...</td>\n",
       "      <td>3:30 BeaconCream🗿🗿</td>\n",
       "      <td>@PemainRoblox2</td>\n",
       "      <td>https://yt3.ggpht.com/ruCvUZnnBNROJMZFxR7eUxND...</td>\n",
       "      <td>http://www.youtube.com/@PemainRoblox2</td>\n",
       "      <td>{'value': 'UC0QKqOuS5CeNkE98EOgsOmg'}</td>\n",
       "      <td>True</td>\n",
       "      <td>none</td>\n",
       "      <td>0</td>\n",
       "      <td>2024-05-24T14:22:36Z</td>\n",
       "      <td>2024-05-24T14:22:36Z</td>\n",
       "    </tr>\n",
       "    <tr>\n",
       "      <th>2</th>\n",
       "      <td>66515ed9d882d1f847df4471</td>\n",
       "      <td>UC-z1ubmS-iHMVr83EEwRS2g</td>\n",
       "      <td>1ZIGLm5cuDo</td>\n",
       "      <td>Seru banget liat ulang&amp;quot; dari yang 2023</td>\n",
       "      <td>Seru banget liat ulang\" dari yang 2023</td>\n",
       "      <td>@Zan-too</td>\n",
       "      <td>https://yt3.ggpht.com/ytc/AIdro_lqybv1ymmQZzV-...</td>\n",
       "      <td>http://www.youtube.com/@Zan-too</td>\n",
       "      <td>{'value': 'UCiDwBwNkV-H_ILEOGb3lTng'}</td>\n",
       "      <td>True</td>\n",
       "      <td>none</td>\n",
       "      <td>1</td>\n",
       "      <td>2024-05-24T07:37:13Z</td>\n",
       "      <td>2024-05-24T07:37:13Z</td>\n",
       "    </tr>\n",
       "    <tr>\n",
       "      <th>3</th>\n",
       "      <td>66515ed9d882d1f847df4472</td>\n",
       "      <td>UC-z1ubmS-iHMVr83EEwRS2g</td>\n",
       "      <td>1ZIGLm5cuDo</td>\n",
       "      <td>Haii aku dari 2024🥹🇮🇩</td>\n",
       "      <td>Haii aku dari 2024🥹🇮🇩</td>\n",
       "      <td>@adindatiaraagustine6028</td>\n",
       "      <td>https://yt3.ggpht.com/ytc/AIdro_nZTGo3ibibGPIc...</td>\n",
       "      <td>http://www.youtube.com/@adindatiaraagustine6028</td>\n",
       "      <td>{'value': 'UCqp4xl_g8Ai1_PvboeLi7KQ'}</td>\n",
       "      <td>True</td>\n",
       "      <td>none</td>\n",
       "      <td>0</td>\n",
       "      <td>2024-05-24T07:33:35Z</td>\n",
       "      <td>2024-05-24T07:33:35Z</td>\n",
       "    </tr>\n",
       "    <tr>\n",
       "      <th>4</th>\n",
       "      <td>66515ed9d882d1f847df4473</td>\n",
       "      <td>UC-z1ubmS-iHMVr83EEwRS2g</td>\n",
       "      <td>1ZIGLm5cuDo</td>\n",
       "      <td>Halo dari 2024</td>\n",
       "      <td>Halo dari 2024</td>\n",
       "      <td>@rnggaakhaira6602</td>\n",
       "      <td>https://yt3.ggpht.com/ytc/AIdro_miy4I4tWQShzVX...</td>\n",
       "      <td>http://www.youtube.com/@rnggaakhaira6602</td>\n",
       "      <td>{'value': 'UCgNiEl50E0paOPCSyXK5Pkg'}</td>\n",
       "      <td>True</td>\n",
       "      <td>none</td>\n",
       "      <td>1</td>\n",
       "      <td>2024-05-23T18:25:48Z</td>\n",
       "      <td>2024-05-23T18:25:53Z</td>\n",
       "    </tr>\n",
       "    <tr>\n",
       "      <th>...</th>\n",
       "      <td>...</td>\n",
       "      <td>...</td>\n",
       "      <td>...</td>\n",
       "      <td>...</td>\n",
       "      <td>...</td>\n",
       "      <td>...</td>\n",
       "      <td>...</td>\n",
       "      <td>...</td>\n",
       "      <td>...</td>\n",
       "      <td>...</td>\n",
       "      <td>...</td>\n",
       "      <td>...</td>\n",
       "      <td>...</td>\n",
       "      <td>...</td>\n",
       "    </tr>\n",
       "    <tr>\n",
       "      <th>70130</th>\n",
       "      <td>66515f99d882d1f847e05661</td>\n",
       "      <td>UC-z1ubmS-iHMVr83EEwRS2g</td>\n",
       "      <td>1ZIGLm5cuDo</td>\n",
       "      <td>pertamax</td>\n",
       "      <td>pertamax</td>\n",
       "      <td>@lalumuhammadnaveenbomantar1066</td>\n",
       "      <td>https://yt3.ggpht.com/ytc/AIdro_lThIcUkdURy36C...</td>\n",
       "      <td>http://www.youtube.com/@lalumuhammadnaveenboma...</td>\n",
       "      <td>{'value': 'UCXUPn6byRLk3Co_J5QXKjvw'}</td>\n",
       "      <td>True</td>\n",
       "      <td>none</td>\n",
       "      <td>0</td>\n",
       "      <td>2016-12-18T12:16:16Z</td>\n",
       "      <td>2016-12-18T12:16:16Z</td>\n",
       "    </tr>\n",
       "    <tr>\n",
       "      <th>70131</th>\n",
       "      <td>66515f99d882d1f847e05662</td>\n",
       "      <td>UC-z1ubmS-iHMVr83EEwRS2g</td>\n",
       "      <td>1ZIGLm5cuDo</td>\n",
       "      <td>Firs</td>\n",
       "      <td>Firs</td>\n",
       "      <td>@keisyanoviansyahnur2857</td>\n",
       "      <td>https://yt3.ggpht.com/ytc/AIdro_mNGnEcqEDgIssF...</td>\n",
       "      <td>http://www.youtube.com/@keisyanoviansyahnur2857</td>\n",
       "      <td>{'value': 'UCeIohZdwuWVpp-S4XLYqXIw'}</td>\n",
       "      <td>True</td>\n",
       "      <td>none</td>\n",
       "      <td>0</td>\n",
       "      <td>2016-12-18T12:16:16Z</td>\n",
       "      <td>2016-12-18T12:16:16Z</td>\n",
       "    </tr>\n",
       "    <tr>\n",
       "      <th>70132</th>\n",
       "      <td>66515f99d882d1f847e05663</td>\n",
       "      <td>UC-z1ubmS-iHMVr83EEwRS2g</td>\n",
       "      <td>1ZIGLm5cuDo</td>\n",
       "      <td>pertama</td>\n",
       "      <td>pertama</td>\n",
       "      <td>@donylukito1058</td>\n",
       "      <td>https://yt3.ggpht.com/ytc/AIdro_kZXf00HgnNSZBH...</td>\n",
       "      <td>http://www.youtube.com/@donylukito1058</td>\n",
       "      <td>{'value': 'UCZ4SDriUZH-o_c-kAdLGuzw'}</td>\n",
       "      <td>True</td>\n",
       "      <td>none</td>\n",
       "      <td>0</td>\n",
       "      <td>2016-12-18T12:16:16Z</td>\n",
       "      <td>2016-12-18T12:16:16Z</td>\n",
       "    </tr>\n",
       "    <tr>\n",
       "      <th>70133</th>\n",
       "      <td>66515f99d882d1f847e05664</td>\n",
       "      <td>UC-z1ubmS-iHMVr83EEwRS2g</td>\n",
       "      <td>1ZIGLm5cuDo</td>\n",
       "      <td>KEREEEN</td>\n",
       "      <td>KEREEEN</td>\n",
       "      <td>@fjr1746</td>\n",
       "      <td>https://yt3.ggpht.com/ytc/AIdro_mlJRhIYHmv0vHd...</td>\n",
       "      <td>http://www.youtube.com/@fjr1746</td>\n",
       "      <td>{'value': 'UC1gO3rJiDKJi-KNFrvv9RRA'}</td>\n",
       "      <td>True</td>\n",
       "      <td>none</td>\n",
       "      <td>0</td>\n",
       "      <td>2016-12-18T12:16:15Z</td>\n",
       "      <td>2016-12-18T12:16:15Z</td>\n",
       "    </tr>\n",
       "    <tr>\n",
       "      <th>70134</th>\n",
       "      <td>66515f99d882d1f847e05665</td>\n",
       "      <td>UC-z1ubmS-iHMVr83EEwRS2g</td>\n",
       "      <td>1ZIGLm5cuDo</td>\n",
       "      <td>first</td>\n",
       "      <td>first</td>\n",
       "      <td>@yustrisiadinda7687</td>\n",
       "      <td>https://yt3.ggpht.com/ytc/AIdro_n04FDP-09gmUlz...</td>\n",
       "      <td>http://www.youtube.com/@yustrisiadinda7687</td>\n",
       "      <td>{'value': 'UC50wB_zJQ1CZ2JgyWMgz7Vg'}</td>\n",
       "      <td>True</td>\n",
       "      <td>none</td>\n",
       "      <td>1</td>\n",
       "      <td>2016-12-18T12:16:14Z</td>\n",
       "      <td>2016-12-18T12:16:14Z</td>\n",
       "    </tr>\n",
       "  </tbody>\n",
       "</table>\n",
       "<p>70135 rows × 14 columns</p>\n",
       "</div>"
      ],
      "text/plain": [
       "                            _id                 channelId      videoId  \\\n",
       "0      66515ed9d882d1f847df446f  UC-z1ubmS-iHMVr83EEwRS2g  1ZIGLm5cuDo   \n",
       "1      66515ed9d882d1f847df4470  UC-z1ubmS-iHMVr83EEwRS2g  1ZIGLm5cuDo   \n",
       "2      66515ed9d882d1f847df4471  UC-z1ubmS-iHMVr83EEwRS2g  1ZIGLm5cuDo   \n",
       "3      66515ed9d882d1f847df4472  UC-z1ubmS-iHMVr83EEwRS2g  1ZIGLm5cuDo   \n",
       "4      66515ed9d882d1f847df4473  UC-z1ubmS-iHMVr83EEwRS2g  1ZIGLm5cuDo   \n",
       "...                         ...                       ...          ...   \n",
       "70130  66515f99d882d1f847e05661  UC-z1ubmS-iHMVr83EEwRS2g  1ZIGLm5cuDo   \n",
       "70131  66515f99d882d1f847e05662  UC-z1ubmS-iHMVr83EEwRS2g  1ZIGLm5cuDo   \n",
       "70132  66515f99d882d1f847e05663  UC-z1ubmS-iHMVr83EEwRS2g  1ZIGLm5cuDo   \n",
       "70133  66515f99d882d1f847e05664  UC-z1ubmS-iHMVr83EEwRS2g  1ZIGLm5cuDo   \n",
       "70134  66515f99d882d1f847e05665  UC-z1ubmS-iHMVr83EEwRS2g  1ZIGLm5cuDo   \n",
       "\n",
       "                                             textDisplay  \\\n",
       "0      Rewind paling bnyk memori soalnya di jaman itu...   \n",
       "1      <a href=\"https://www.youtube.com/watch?v=1ZIGL...   \n",
       "2            Seru banget liat ulang&quot; dari yang 2023   \n",
       "3                                  Haii aku dari 2024🥹🇮🇩   \n",
       "4                                         Halo dari 2024   \n",
       "...                                                  ...   \n",
       "70130                                           pertamax   \n",
       "70131                                               Firs   \n",
       "70132                                            pertama   \n",
       "70133                                            KEREEEN   \n",
       "70134                                              first   \n",
       "\n",
       "                                            textOriginal  \\\n",
       "0      Rewind paling bnyk memori soalnya di jaman itu...   \n",
       "1                                     3:30 BeaconCream🗿🗿   \n",
       "2                 Seru banget liat ulang\" dari yang 2023   \n",
       "3                                  Haii aku dari 2024🥹🇮🇩   \n",
       "4                                         Halo dari 2024   \n",
       "...                                                  ...   \n",
       "70130                                           pertamax   \n",
       "70131                                               Firs   \n",
       "70132                                            pertama   \n",
       "70133                                            KEREEEN   \n",
       "70134                                              first   \n",
       "\n",
       "                     authorDisplayName  \\\n",
       "0                          @Fiammawan1   \n",
       "1                       @PemainRoblox2   \n",
       "2                             @Zan-too   \n",
       "3             @adindatiaraagustine6028   \n",
       "4                    @rnggaakhaira6602   \n",
       "...                                ...   \n",
       "70130  @lalumuhammadnaveenbomantar1066   \n",
       "70131         @keisyanoviansyahnur2857   \n",
       "70132                  @donylukito1058   \n",
       "70133                         @fjr1746   \n",
       "70134              @yustrisiadinda7687   \n",
       "\n",
       "                                   authorProfileImageUrl  \\\n",
       "0      https://yt3.ggpht.com/_e9Fqq5cqPF2-9fSB3Uuu3-H...   \n",
       "1      https://yt3.ggpht.com/ruCvUZnnBNROJMZFxR7eUxND...   \n",
       "2      https://yt3.ggpht.com/ytc/AIdro_lqybv1ymmQZzV-...   \n",
       "3      https://yt3.ggpht.com/ytc/AIdro_nZTGo3ibibGPIc...   \n",
       "4      https://yt3.ggpht.com/ytc/AIdro_miy4I4tWQShzVX...   \n",
       "...                                                  ...   \n",
       "70130  https://yt3.ggpht.com/ytc/AIdro_lThIcUkdURy36C...   \n",
       "70131  https://yt3.ggpht.com/ytc/AIdro_mNGnEcqEDgIssF...   \n",
       "70132  https://yt3.ggpht.com/ytc/AIdro_kZXf00HgnNSZBH...   \n",
       "70133  https://yt3.ggpht.com/ytc/AIdro_mlJRhIYHmv0vHd...   \n",
       "70134  https://yt3.ggpht.com/ytc/AIdro_n04FDP-09gmUlz...   \n",
       "\n",
       "                                        authorChannelUrl  \\\n",
       "0                     http://www.youtube.com/@Fiammawan1   \n",
       "1                  http://www.youtube.com/@PemainRoblox2   \n",
       "2                        http://www.youtube.com/@Zan-too   \n",
       "3        http://www.youtube.com/@adindatiaraagustine6028   \n",
       "4               http://www.youtube.com/@rnggaakhaira6602   \n",
       "...                                                  ...   \n",
       "70130  http://www.youtube.com/@lalumuhammadnaveenboma...   \n",
       "70131    http://www.youtube.com/@keisyanoviansyahnur2857   \n",
       "70132             http://www.youtube.com/@donylukito1058   \n",
       "70133                    http://www.youtube.com/@fjr1746   \n",
       "70134         http://www.youtube.com/@yustrisiadinda7687   \n",
       "\n",
       "                             authorChannelId  canRate viewerRating  likeCount  \\\n",
       "0      {'value': 'UCI8jUOlXNKU9hL9GAoM2E3w'}     True         none          2   \n",
       "1      {'value': 'UC0QKqOuS5CeNkE98EOgsOmg'}     True         none          0   \n",
       "2      {'value': 'UCiDwBwNkV-H_ILEOGb3lTng'}     True         none          1   \n",
       "3      {'value': 'UCqp4xl_g8Ai1_PvboeLi7KQ'}     True         none          0   \n",
       "4      {'value': 'UCgNiEl50E0paOPCSyXK5Pkg'}     True         none          1   \n",
       "...                                      ...      ...          ...        ...   \n",
       "70130  {'value': 'UCXUPn6byRLk3Co_J5QXKjvw'}     True         none          0   \n",
       "70131  {'value': 'UCeIohZdwuWVpp-S4XLYqXIw'}     True         none          0   \n",
       "70132  {'value': 'UCZ4SDriUZH-o_c-kAdLGuzw'}     True         none          0   \n",
       "70133  {'value': 'UC1gO3rJiDKJi-KNFrvv9RRA'}     True         none          0   \n",
       "70134  {'value': 'UC50wB_zJQ1CZ2JgyWMgz7Vg'}     True         none          1   \n",
       "\n",
       "                publishedAt             updatedAt  \n",
       "0      2024-05-24T18:10:30Z  2024-05-24T18:10:30Z  \n",
       "1      2024-05-24T14:22:36Z  2024-05-24T14:22:36Z  \n",
       "2      2024-05-24T07:37:13Z  2024-05-24T07:37:13Z  \n",
       "3      2024-05-24T07:33:35Z  2024-05-24T07:33:35Z  \n",
       "4      2024-05-23T18:25:48Z  2024-05-23T18:25:53Z  \n",
       "...                     ...                   ...  \n",
       "70130  2016-12-18T12:16:16Z  2016-12-18T12:16:16Z  \n",
       "70131  2016-12-18T12:16:16Z  2016-12-18T12:16:16Z  \n",
       "70132  2016-12-18T12:16:16Z  2016-12-18T12:16:16Z  \n",
       "70133  2016-12-18T12:16:15Z  2016-12-18T12:16:15Z  \n",
       "70134  2016-12-18T12:16:14Z  2016-12-18T12:16:14Z  \n",
       "\n",
       "[70135 rows x 14 columns]"
      ]
     },
     "execution_count": 5,
     "metadata": {},
     "output_type": "execute_result"
    }
   ],
   "source": [
    "df"
   ]
  },
  {
   "cell_type": "markdown",
   "metadata": {},
   "source": [
    "#### Menghapus data text yang duplikat"
   ]
  },
  {
   "cell_type": "code",
   "execution_count": 6,
   "metadata": {},
   "outputs": [
    {
     "data": {
      "text/plain": [
       "(65632, 14)"
      ]
     },
     "execution_count": 6,
     "metadata": {},
     "output_type": "execute_result"
    }
   ],
   "source": [
    "df = df.drop_duplicates(subset=['textOriginal'])\n",
    "\n",
    "df.shape"
   ]
  },
  {
   "cell_type": "markdown",
   "metadata": {},
   "source": [
    "#### Menghapus data author yang duplikat"
   ]
  },
  {
   "cell_type": "code",
   "execution_count": 7,
   "metadata": {},
   "outputs": [
    {
     "data": {
      "text/plain": [
       "(57706, 14)"
      ]
     },
     "execution_count": 7,
     "metadata": {},
     "output_type": "execute_result"
    }
   ],
   "source": [
    "df = df.drop_duplicates(subset=['authorChannelUrl'])\n",
    "\n",
    "df.shape"
   ]
  },
  {
   "cell_type": "markdown",
   "metadata": {},
   "source": [
    "#### Menghilangkan atribut yang tidak diperlukan"
   ]
  },
  {
   "cell_type": "markdown",
   "metadata": {},
   "source": [
    "Karena hanya menganalisis komentar, maka atribut yang disisakan hanya _id dan textOriginal"
   ]
  },
  {
   "cell_type": "code",
   "execution_count": 8,
   "metadata": {},
   "outputs": [
    {
     "data": {
      "text/html": [
       "<div>\n",
       "<style scoped>\n",
       "    .dataframe tbody tr th:only-of-type {\n",
       "        vertical-align: middle;\n",
       "    }\n",
       "\n",
       "    .dataframe tbody tr th {\n",
       "        vertical-align: top;\n",
       "    }\n",
       "\n",
       "    .dataframe thead th {\n",
       "        text-align: right;\n",
       "    }\n",
       "</style>\n",
       "<table border=\"1\" class=\"dataframe\">\n",
       "  <thead>\n",
       "    <tr style=\"text-align: right;\">\n",
       "      <th></th>\n",
       "      <th>_id</th>\n",
       "      <th>textOriginal</th>\n",
       "    </tr>\n",
       "  </thead>\n",
       "  <tbody>\n",
       "    <tr>\n",
       "      <th>0</th>\n",
       "      <td>66515ed9d882d1f847df446f</td>\n",
       "      <td>Rewind paling bnyk memori soalnya di jaman itu...</td>\n",
       "    </tr>\n",
       "    <tr>\n",
       "      <th>1</th>\n",
       "      <td>66515ed9d882d1f847df4470</td>\n",
       "      <td>3:30 BeaconCream🗿🗿</td>\n",
       "    </tr>\n",
       "    <tr>\n",
       "      <th>2</th>\n",
       "      <td>66515ed9d882d1f847df4471</td>\n",
       "      <td>Seru banget liat ulang\" dari yang 2023</td>\n",
       "    </tr>\n",
       "    <tr>\n",
       "      <th>3</th>\n",
       "      <td>66515ed9d882d1f847df4472</td>\n",
       "      <td>Haii aku dari 2024🥹🇮🇩</td>\n",
       "    </tr>\n",
       "    <tr>\n",
       "      <th>4</th>\n",
       "      <td>66515ed9d882d1f847df4473</td>\n",
       "      <td>Halo dari 2024</td>\n",
       "    </tr>\n",
       "    <tr>\n",
       "      <th>...</th>\n",
       "      <td>...</td>\n",
       "      <td>...</td>\n",
       "    </tr>\n",
       "    <tr>\n",
       "      <th>70118</th>\n",
       "      <td>66515f99d882d1f847e05655</td>\n",
       "      <td>t</td>\n",
       "    </tr>\n",
       "    <tr>\n",
       "      <th>70122</th>\n",
       "      <td>66515f99d882d1f847e05659</td>\n",
       "      <td>firt</td>\n",
       "    </tr>\n",
       "    <tr>\n",
       "      <th>70128</th>\n",
       "      <td>66515f99d882d1f847e0565f</td>\n",
       "      <td>firstttt</td>\n",
       "    </tr>\n",
       "    <tr>\n",
       "      <th>70131</th>\n",
       "      <td>66515f99d882d1f847e05662</td>\n",
       "      <td>Firs</td>\n",
       "    </tr>\n",
       "    <tr>\n",
       "      <th>70133</th>\n",
       "      <td>66515f99d882d1f847e05664</td>\n",
       "      <td>KEREEEN</td>\n",
       "    </tr>\n",
       "  </tbody>\n",
       "</table>\n",
       "<p>57706 rows × 2 columns</p>\n",
       "</div>"
      ],
      "text/plain": [
       "                            _id  \\\n",
       "0      66515ed9d882d1f847df446f   \n",
       "1      66515ed9d882d1f847df4470   \n",
       "2      66515ed9d882d1f847df4471   \n",
       "3      66515ed9d882d1f847df4472   \n",
       "4      66515ed9d882d1f847df4473   \n",
       "...                         ...   \n",
       "70118  66515f99d882d1f847e05655   \n",
       "70122  66515f99d882d1f847e05659   \n",
       "70128  66515f99d882d1f847e0565f   \n",
       "70131  66515f99d882d1f847e05662   \n",
       "70133  66515f99d882d1f847e05664   \n",
       "\n",
       "                                            textOriginal  \n",
       "0      Rewind paling bnyk memori soalnya di jaman itu...  \n",
       "1                                     3:30 BeaconCream🗿🗿  \n",
       "2                 Seru banget liat ulang\" dari yang 2023  \n",
       "3                                  Haii aku dari 2024🥹🇮🇩  \n",
       "4                                         Halo dari 2024  \n",
       "...                                                  ...  \n",
       "70118                                                  t  \n",
       "70122                                               firt  \n",
       "70128                                           firstttt  \n",
       "70131                                               Firs  \n",
       "70133                                            KEREEEN  \n",
       "\n",
       "[57706 rows x 2 columns]"
      ]
     },
     "execution_count": 8,
     "metadata": {},
     "output_type": "execute_result"
    }
   ],
   "source": [
    "df = df[['_id', 'textOriginal']]\n",
    "df"
   ]
  },
  {
   "cell_type": "markdown",
   "metadata": {},
   "source": [
    "#### Menghapus nilai yang kosong"
   ]
  },
  {
   "cell_type": "code",
   "execution_count": 9,
   "metadata": {},
   "outputs": [
    {
     "data": {
      "text/plain": [
       "_id             0\n",
       "textOriginal    0\n",
       "dtype: int64"
      ]
     },
     "execution_count": 9,
     "metadata": {},
     "output_type": "execute_result"
    }
   ],
   "source": [
    "df = df.dropna()\n",
    "\n",
    "# Melihat data yang kosong\n",
    "df.isnull().sum()"
   ]
  },
  {
   "cell_type": "markdown",
   "metadata": {},
   "source": [
    "Dari yang awalnya berjumlah 70135 row berkurang menjadi 57706 row"
   ]
  },
  {
   "cell_type": "markdown",
   "metadata": {},
   "source": [
    "#### Mengimpan Clean Comments ke MongoDB Local"
   ]
  },
  {
   "cell_type": "code",
   "execution_count": 10,
   "metadata": {},
   "outputs": [
    {
     "name": "stdout",
     "output_type": "stream",
     "text": [
      "Data berhasil diimpor ke MongoDB Local.\n"
     ]
    }
   ],
   "source": [
    "# Koneksi ke MongoDB\n",
    "client = MongoClient(local_url)\n",
    "db = client[database_name]\n",
    "collection = db[collection_name]\n",
    "\n",
    "# Konversi DataFrame ke bentuk dictionary\n",
    "records = df.to_dict(orient='records')\n",
    "\n",
    "# Menyisipkan data ke MongoDB\n",
    "collection.insert_many(records)\n",
    "\n",
    "print(\"Data berhasil diimpor ke MongoDB Local.\")"
   ]
  },
  {
   "cell_type": "markdown",
   "metadata": {},
   "source": [
    "#### Migrasi dari MongoDB Local ke MongoDB Atlas"
   ]
  },
  {
   "cell_type": "code",
   "execution_count": 11,
   "metadata": {},
   "outputs": [
    {
     "ename": "KeyboardInterrupt",
     "evalue": "",
     "output_type": "error",
     "traceback": [
      "\u001b[1;31m---------------------------------------------------------------------------\u001b[0m",
      "\u001b[1;31mKeyboardInterrupt\u001b[0m                         Traceback (most recent call last)",
      "Cell \u001b[1;32mIn[11], line 16\u001b[0m\n\u001b[0;32m     14\u001b[0m \u001b[38;5;66;03m# Masukkan dokumen ke MongoDB Atlas\u001b[39;00m\n\u001b[0;32m     15\u001b[0m \u001b[38;5;28;01mif\u001b[39;00m documents:\n\u001b[1;32m---> 16\u001b[0m     \u001b[43matlas_collection\u001b[49m\u001b[38;5;241;43m.\u001b[39;49m\u001b[43minsert_many\u001b[49m\u001b[43m(\u001b[49m\u001b[43mdocuments\u001b[49m\u001b[43m)\u001b[49m\n\u001b[0;32m     17\u001b[0m     \u001b[38;5;28mprint\u001b[39m(\u001b[38;5;124mf\u001b[39m\u001b[38;5;124m'\u001b[39m\u001b[38;5;132;01m{\u001b[39;00m\u001b[38;5;28mlen\u001b[39m(documents)\u001b[38;5;132;01m}\u001b[39;00m\u001b[38;5;124m dokumen berhasil dipindahkan dari MongoDB lokal ke MongoDB Atlas.\u001b[39m\u001b[38;5;124m'\u001b[39m)\n\u001b[0;32m     18\u001b[0m \u001b[38;5;28;01melse\u001b[39;00m:\n",
      "File \u001b[1;32mc:\\Users\\LENOVO\\AppData\\Local\\Programs\\Python\\Python311\\Lib\\site-packages\\pymongo\\_csot.py:108\u001b[0m, in \u001b[0;36mapply.<locals>.csot_wrapper\u001b[1;34m(self, *args, **kwargs)\u001b[0m\n\u001b[0;32m    106\u001b[0m         \u001b[38;5;28;01mwith\u001b[39;00m _TimeoutContext(timeout):\n\u001b[0;32m    107\u001b[0m             \u001b[38;5;28;01mreturn\u001b[39;00m func(\u001b[38;5;28mself\u001b[39m, \u001b[38;5;241m*\u001b[39margs, \u001b[38;5;241m*\u001b[39m\u001b[38;5;241m*\u001b[39mkwargs)\n\u001b[1;32m--> 108\u001b[0m \u001b[38;5;28;01mreturn\u001b[39;00m \u001b[43mfunc\u001b[49m\u001b[43m(\u001b[49m\u001b[38;5;28;43mself\u001b[39;49m\u001b[43m,\u001b[49m\u001b[43m \u001b[49m\u001b[38;5;241;43m*\u001b[39;49m\u001b[43margs\u001b[49m\u001b[43m,\u001b[49m\u001b[43m \u001b[49m\u001b[38;5;241;43m*\u001b[39;49m\u001b[38;5;241;43m*\u001b[39;49m\u001b[43mkwargs\u001b[49m\u001b[43m)\u001b[49m\n",
      "File \u001b[1;32mc:\\Users\\LENOVO\\AppData\\Local\\Programs\\Python\\Python311\\Lib\\site-packages\\pymongo\\collection.py:742\u001b[0m, in \u001b[0;36mCollection.insert_many\u001b[1;34m(self, documents, ordered, bypass_document_validation, session, comment)\u001b[0m\n\u001b[0;32m    740\u001b[0m blk \u001b[38;5;241m=\u001b[39m _Bulk(\u001b[38;5;28mself\u001b[39m, ordered, bypass_document_validation, comment\u001b[38;5;241m=\u001b[39mcomment)\n\u001b[0;32m    741\u001b[0m blk\u001b[38;5;241m.\u001b[39mops \u001b[38;5;241m=\u001b[39m \u001b[38;5;28mlist\u001b[39m(gen())\n\u001b[1;32m--> 742\u001b[0m \u001b[43mblk\u001b[49m\u001b[38;5;241;43m.\u001b[39;49m\u001b[43mexecute\u001b[49m\u001b[43m(\u001b[49m\u001b[43mwrite_concern\u001b[49m\u001b[43m,\u001b[49m\u001b[43m \u001b[49m\u001b[43msession\u001b[49m\u001b[43m,\u001b[49m\u001b[43m \u001b[49m\u001b[43m_Op\u001b[49m\u001b[38;5;241;43m.\u001b[39;49m\u001b[43mINSERT\u001b[49m\u001b[43m)\u001b[49m\n\u001b[0;32m    743\u001b[0m \u001b[38;5;28;01mreturn\u001b[39;00m InsertManyResult(inserted_ids, write_concern\u001b[38;5;241m.\u001b[39macknowledged)\n",
      "File \u001b[1;32mc:\\Users\\LENOVO\\AppData\\Local\\Programs\\Python\\Python311\\Lib\\site-packages\\pymongo\\bulk.py:595\u001b[0m, in \u001b[0;36m_Bulk.execute\u001b[1;34m(self, write_concern, session, operation)\u001b[0m\n\u001b[0;32m    593\u001b[0m         \u001b[38;5;28;01mreturn\u001b[39;00m \u001b[38;5;28;01mNone\u001b[39;00m\n\u001b[0;32m    594\u001b[0m \u001b[38;5;28;01melse\u001b[39;00m:\n\u001b[1;32m--> 595\u001b[0m     \u001b[38;5;28;01mreturn\u001b[39;00m \u001b[38;5;28;43mself\u001b[39;49m\u001b[38;5;241;43m.\u001b[39;49m\u001b[43mexecute_command\u001b[49m\u001b[43m(\u001b[49m\u001b[43mgenerator\u001b[49m\u001b[43m,\u001b[49m\u001b[43m \u001b[49m\u001b[43mwrite_concern\u001b[49m\u001b[43m,\u001b[49m\u001b[43m \u001b[49m\u001b[43msession\u001b[49m\u001b[43m,\u001b[49m\u001b[43m \u001b[49m\u001b[43moperation\u001b[49m\u001b[43m)\u001b[49m\n",
      "File \u001b[1;32mc:\\Users\\LENOVO\\AppData\\Local\\Programs\\Python\\Python311\\Lib\\site-packages\\pymongo\\bulk.py:452\u001b[0m, in \u001b[0;36m_Bulk.execute_command\u001b[1;34m(self, generator, write_concern, session, operation)\u001b[0m\n\u001b[0;32m    441\u001b[0m     \u001b[38;5;28mself\u001b[39m\u001b[38;5;241m.\u001b[39m_execute_command(\n\u001b[0;32m    442\u001b[0m         generator,\n\u001b[0;32m    443\u001b[0m         write_concern,\n\u001b[1;32m   (...)\u001b[0m\n\u001b[0;32m    448\u001b[0m         full_result,\n\u001b[0;32m    449\u001b[0m     )\n\u001b[0;32m    451\u001b[0m client \u001b[38;5;241m=\u001b[39m \u001b[38;5;28mself\u001b[39m\u001b[38;5;241m.\u001b[39mcollection\u001b[38;5;241m.\u001b[39mdatabase\u001b[38;5;241m.\u001b[39mclient\n\u001b[1;32m--> 452\u001b[0m \u001b[43mclient\u001b[49m\u001b[38;5;241;43m.\u001b[39;49m\u001b[43m_retryable_write\u001b[49m\u001b[43m(\u001b[49m\n\u001b[0;32m    453\u001b[0m \u001b[43m    \u001b[49m\u001b[38;5;28;43mself\u001b[39;49m\u001b[38;5;241;43m.\u001b[39;49m\u001b[43mis_retryable\u001b[49m\u001b[43m,\u001b[49m\n\u001b[0;32m    454\u001b[0m \u001b[43m    \u001b[49m\u001b[43mretryable_bulk\u001b[49m\u001b[43m,\u001b[49m\n\u001b[0;32m    455\u001b[0m \u001b[43m    \u001b[49m\u001b[43msession\u001b[49m\u001b[43m,\u001b[49m\n\u001b[0;32m    456\u001b[0m \u001b[43m    \u001b[49m\u001b[43moperation\u001b[49m\u001b[43m,\u001b[49m\n\u001b[0;32m    457\u001b[0m \u001b[43m    \u001b[49m\u001b[43mbulk\u001b[49m\u001b[38;5;241;43m=\u001b[39;49m\u001b[38;5;28;43mself\u001b[39;49m\u001b[43m,\u001b[49m\n\u001b[0;32m    458\u001b[0m \u001b[43m    \u001b[49m\u001b[43moperation_id\u001b[49m\u001b[38;5;241;43m=\u001b[39;49m\u001b[43mop_id\u001b[49m\u001b[43m,\u001b[49m\n\u001b[0;32m    459\u001b[0m \u001b[43m\u001b[49m\u001b[43m)\u001b[49m\n\u001b[0;32m    461\u001b[0m \u001b[38;5;28;01mif\u001b[39;00m full_result[\u001b[38;5;124m\"\u001b[39m\u001b[38;5;124mwriteErrors\u001b[39m\u001b[38;5;124m\"\u001b[39m] \u001b[38;5;129;01mor\u001b[39;00m full_result[\u001b[38;5;124m\"\u001b[39m\u001b[38;5;124mwriteConcernErrors\u001b[39m\u001b[38;5;124m\"\u001b[39m]:\n\u001b[0;32m    462\u001b[0m     _raise_bulk_write_error(full_result)\n",
      "File \u001b[1;32mc:\\Users\\LENOVO\\AppData\\Local\\Programs\\Python\\Python311\\Lib\\site-packages\\pymongo\\mongo_client.py:1569\u001b[0m, in \u001b[0;36mMongoClient._retryable_write\u001b[1;34m(self, retryable, func, session, operation, bulk, operation_id)\u001b[0m\n\u001b[0;32m   1555\u001b[0m \u001b[38;5;250m\u001b[39m\u001b[38;5;124;03m\"\"\"Execute an operation with consecutive retries if possible\u001b[39;00m\n\u001b[0;32m   1556\u001b[0m \n\u001b[0;32m   1557\u001b[0m \u001b[38;5;124;03mReturns func()'s return value on success. On error retries the same\u001b[39;00m\n\u001b[1;32m   (...)\u001b[0m\n\u001b[0;32m   1566\u001b[0m \u001b[38;5;124;03m:param bulk: bulk abstraction to execute operations in bulk, defaults to None\u001b[39;00m\n\u001b[0;32m   1567\u001b[0m \u001b[38;5;124;03m\"\"\"\u001b[39;00m\n\u001b[0;32m   1568\u001b[0m \u001b[38;5;28;01mwith\u001b[39;00m \u001b[38;5;28mself\u001b[39m\u001b[38;5;241m.\u001b[39m_tmp_session(session) \u001b[38;5;28;01mas\u001b[39;00m s:\n\u001b[1;32m-> 1569\u001b[0m     \u001b[38;5;28;01mreturn\u001b[39;00m \u001b[38;5;28;43mself\u001b[39;49m\u001b[38;5;241;43m.\u001b[39;49m\u001b[43m_retry_with_session\u001b[49m\u001b[43m(\u001b[49m\u001b[43mretryable\u001b[49m\u001b[43m,\u001b[49m\u001b[43m \u001b[49m\u001b[43mfunc\u001b[49m\u001b[43m,\u001b[49m\u001b[43m \u001b[49m\u001b[43ms\u001b[49m\u001b[43m,\u001b[49m\u001b[43m \u001b[49m\u001b[43mbulk\u001b[49m\u001b[43m,\u001b[49m\u001b[43m \u001b[49m\u001b[43moperation\u001b[49m\u001b[43m,\u001b[49m\u001b[43m \u001b[49m\u001b[43moperation_id\u001b[49m\u001b[43m)\u001b[49m\n",
      "File \u001b[1;32mc:\\Users\\LENOVO\\AppData\\Local\\Programs\\Python\\Python311\\Lib\\site-packages\\pymongo\\mongo_client.py:1455\u001b[0m, in \u001b[0;36mMongoClient._retry_with_session\u001b[1;34m(self, retryable, func, session, bulk, operation, operation_id)\u001b[0m\n\u001b[0;32m   1450\u001b[0m \u001b[38;5;66;03m# Ensure that the options supports retry_writes and there is a valid session not in\u001b[39;00m\n\u001b[0;32m   1451\u001b[0m \u001b[38;5;66;03m# transaction, otherwise, we will not support retry behavior for this txn.\u001b[39;00m\n\u001b[0;32m   1452\u001b[0m retryable \u001b[38;5;241m=\u001b[39m \u001b[38;5;28mbool\u001b[39m(\n\u001b[0;32m   1453\u001b[0m     retryable \u001b[38;5;129;01mand\u001b[39;00m \u001b[38;5;28mself\u001b[39m\u001b[38;5;241m.\u001b[39moptions\u001b[38;5;241m.\u001b[39mretry_writes \u001b[38;5;129;01mand\u001b[39;00m session \u001b[38;5;129;01mand\u001b[39;00m \u001b[38;5;129;01mnot\u001b[39;00m session\u001b[38;5;241m.\u001b[39min_transaction\n\u001b[0;32m   1454\u001b[0m )\n\u001b[1;32m-> 1455\u001b[0m \u001b[38;5;28;01mreturn\u001b[39;00m \u001b[38;5;28;43mself\u001b[39;49m\u001b[38;5;241;43m.\u001b[39;49m\u001b[43m_retry_internal\u001b[49m\u001b[43m(\u001b[49m\n\u001b[0;32m   1456\u001b[0m \u001b[43m    \u001b[49m\u001b[43mfunc\u001b[49m\u001b[38;5;241;43m=\u001b[39;49m\u001b[43mfunc\u001b[49m\u001b[43m,\u001b[49m\n\u001b[0;32m   1457\u001b[0m \u001b[43m    \u001b[49m\u001b[43msession\u001b[49m\u001b[38;5;241;43m=\u001b[39;49m\u001b[43msession\u001b[49m\u001b[43m,\u001b[49m\n\u001b[0;32m   1458\u001b[0m \u001b[43m    \u001b[49m\u001b[43mbulk\u001b[49m\u001b[38;5;241;43m=\u001b[39;49m\u001b[43mbulk\u001b[49m\u001b[43m,\u001b[49m\n\u001b[0;32m   1459\u001b[0m \u001b[43m    \u001b[49m\u001b[43moperation\u001b[49m\u001b[38;5;241;43m=\u001b[39;49m\u001b[43moperation\u001b[49m\u001b[43m,\u001b[49m\n\u001b[0;32m   1460\u001b[0m \u001b[43m    \u001b[49m\u001b[43mretryable\u001b[49m\u001b[38;5;241;43m=\u001b[39;49m\u001b[43mretryable\u001b[49m\u001b[43m,\u001b[49m\n\u001b[0;32m   1461\u001b[0m \u001b[43m    \u001b[49m\u001b[43moperation_id\u001b[49m\u001b[38;5;241;43m=\u001b[39;49m\u001b[43moperation_id\u001b[49m\u001b[43m,\u001b[49m\n\u001b[0;32m   1462\u001b[0m \u001b[43m\u001b[49m\u001b[43m)\u001b[49m\n",
      "File \u001b[1;32mc:\\Users\\LENOVO\\AppData\\Local\\Programs\\Python\\Python311\\Lib\\site-packages\\pymongo\\_csot.py:108\u001b[0m, in \u001b[0;36mapply.<locals>.csot_wrapper\u001b[1;34m(self, *args, **kwargs)\u001b[0m\n\u001b[0;32m    106\u001b[0m         \u001b[38;5;28;01mwith\u001b[39;00m _TimeoutContext(timeout):\n\u001b[0;32m    107\u001b[0m             \u001b[38;5;28;01mreturn\u001b[39;00m func(\u001b[38;5;28mself\u001b[39m, \u001b[38;5;241m*\u001b[39margs, \u001b[38;5;241m*\u001b[39m\u001b[38;5;241m*\u001b[39mkwargs)\n\u001b[1;32m--> 108\u001b[0m \u001b[38;5;28;01mreturn\u001b[39;00m \u001b[43mfunc\u001b[49m\u001b[43m(\u001b[49m\u001b[38;5;28;43mself\u001b[39;49m\u001b[43m,\u001b[49m\u001b[43m \u001b[49m\u001b[38;5;241;43m*\u001b[39;49m\u001b[43margs\u001b[49m\u001b[43m,\u001b[49m\u001b[43m \u001b[49m\u001b[38;5;241;43m*\u001b[39;49m\u001b[38;5;241;43m*\u001b[39;49m\u001b[43mkwargs\u001b[49m\u001b[43m)\u001b[49m\n",
      "File \u001b[1;32mc:\\Users\\LENOVO\\AppData\\Local\\Programs\\Python\\Python311\\Lib\\site-packages\\pymongo\\mongo_client.py:1501\u001b[0m, in \u001b[0;36mMongoClient._retry_internal\u001b[1;34m(self, func, session, bulk, operation, is_read, address, read_pref, retryable, operation_id)\u001b[0m\n\u001b[0;32m   1464\u001b[0m \u001b[38;5;129m@_csot\u001b[39m\u001b[38;5;241m.\u001b[39mapply\n\u001b[0;32m   1465\u001b[0m \u001b[38;5;28;01mdef\u001b[39;00m \u001b[38;5;21m_retry_internal\u001b[39m(\n\u001b[0;32m   1466\u001b[0m     \u001b[38;5;28mself\u001b[39m,\n\u001b[1;32m   (...)\u001b[0m\n\u001b[0;32m   1475\u001b[0m     operation_id: Optional[\u001b[38;5;28mint\u001b[39m] \u001b[38;5;241m=\u001b[39m \u001b[38;5;28;01mNone\u001b[39;00m,\n\u001b[0;32m   1476\u001b[0m ) \u001b[38;5;241m-\u001b[39m\u001b[38;5;241m>\u001b[39m T:\n\u001b[0;32m   1477\u001b[0m \u001b[38;5;250m    \u001b[39m\u001b[38;5;124;03m\"\"\"Internal retryable helper for all client transactions.\u001b[39;00m\n\u001b[0;32m   1478\u001b[0m \n\u001b[0;32m   1479\u001b[0m \u001b[38;5;124;03m    :param func: Callback function we want to retry\u001b[39;00m\n\u001b[1;32m   (...)\u001b[0m\n\u001b[0;32m   1488\u001b[0m \u001b[38;5;124;03m    :return: Output of the calling func()\u001b[39;00m\n\u001b[0;32m   1489\u001b[0m \u001b[38;5;124;03m    \"\"\"\u001b[39;00m\n\u001b[0;32m   1490\u001b[0m     \u001b[38;5;28;01mreturn\u001b[39;00m \u001b[43m_ClientConnectionRetryable\u001b[49m\u001b[43m(\u001b[49m\n\u001b[0;32m   1491\u001b[0m \u001b[43m        \u001b[49m\u001b[43mmongo_client\u001b[49m\u001b[38;5;241;43m=\u001b[39;49m\u001b[38;5;28;43mself\u001b[39;49m\u001b[43m,\u001b[49m\n\u001b[0;32m   1492\u001b[0m \u001b[43m        \u001b[49m\u001b[43mfunc\u001b[49m\u001b[38;5;241;43m=\u001b[39;49m\u001b[43mfunc\u001b[49m\u001b[43m,\u001b[49m\n\u001b[0;32m   1493\u001b[0m \u001b[43m        \u001b[49m\u001b[43mbulk\u001b[49m\u001b[38;5;241;43m=\u001b[39;49m\u001b[43mbulk\u001b[49m\u001b[43m,\u001b[49m\n\u001b[0;32m   1494\u001b[0m \u001b[43m        \u001b[49m\u001b[43moperation\u001b[49m\u001b[38;5;241;43m=\u001b[39;49m\u001b[43moperation\u001b[49m\u001b[43m,\u001b[49m\n\u001b[0;32m   1495\u001b[0m \u001b[43m        \u001b[49m\u001b[43mis_read\u001b[49m\u001b[38;5;241;43m=\u001b[39;49m\u001b[43mis_read\u001b[49m\u001b[43m,\u001b[49m\n\u001b[0;32m   1496\u001b[0m \u001b[43m        \u001b[49m\u001b[43msession\u001b[49m\u001b[38;5;241;43m=\u001b[39;49m\u001b[43msession\u001b[49m\u001b[43m,\u001b[49m\n\u001b[0;32m   1497\u001b[0m \u001b[43m        \u001b[49m\u001b[43mread_pref\u001b[49m\u001b[38;5;241;43m=\u001b[39;49m\u001b[43mread_pref\u001b[49m\u001b[43m,\u001b[49m\n\u001b[0;32m   1498\u001b[0m \u001b[43m        \u001b[49m\u001b[43maddress\u001b[49m\u001b[38;5;241;43m=\u001b[39;49m\u001b[43maddress\u001b[49m\u001b[43m,\u001b[49m\n\u001b[0;32m   1499\u001b[0m \u001b[43m        \u001b[49m\u001b[43mretryable\u001b[49m\u001b[38;5;241;43m=\u001b[39;49m\u001b[43mretryable\u001b[49m\u001b[43m,\u001b[49m\n\u001b[0;32m   1500\u001b[0m \u001b[43m        \u001b[49m\u001b[43moperation_id\u001b[49m\u001b[38;5;241;43m=\u001b[39;49m\u001b[43moperation_id\u001b[49m\u001b[43m,\u001b[49m\n\u001b[1;32m-> 1501\u001b[0m \u001b[43m    \u001b[49m\u001b[43m)\u001b[49m\u001b[38;5;241;43m.\u001b[39;49m\u001b[43mrun\u001b[49m\u001b[43m(\u001b[49m\u001b[43m)\u001b[49m\n",
      "File \u001b[1;32mc:\\Users\\LENOVO\\AppData\\Local\\Programs\\Python\\Python311\\Lib\\site-packages\\pymongo\\mongo_client.py:2347\u001b[0m, in \u001b[0;36m_ClientConnectionRetryable.run\u001b[1;34m(self)\u001b[0m\n\u001b[0;32m   2345\u001b[0m \u001b[38;5;28mself\u001b[39m\u001b[38;5;241m.\u001b[39m_check_last_error(check_csot\u001b[38;5;241m=\u001b[39m\u001b[38;5;28;01mTrue\u001b[39;00m)\n\u001b[0;32m   2346\u001b[0m \u001b[38;5;28;01mtry\u001b[39;00m:\n\u001b[1;32m-> 2347\u001b[0m     \u001b[38;5;28;01mreturn\u001b[39;00m \u001b[38;5;28mself\u001b[39m\u001b[38;5;241m.\u001b[39m_read() \u001b[38;5;28;01mif\u001b[39;00m \u001b[38;5;28mself\u001b[39m\u001b[38;5;241m.\u001b[39m_is_read \u001b[38;5;28;01melse\u001b[39;00m \u001b[38;5;28;43mself\u001b[39;49m\u001b[38;5;241;43m.\u001b[39;49m\u001b[43m_write\u001b[49m\u001b[43m(\u001b[49m\u001b[43m)\u001b[49m\n\u001b[0;32m   2348\u001b[0m \u001b[38;5;28;01mexcept\u001b[39;00m ServerSelectionTimeoutError:\n\u001b[0;32m   2349\u001b[0m     \u001b[38;5;66;03m# The application may think the write was never attempted\u001b[39;00m\n\u001b[0;32m   2350\u001b[0m     \u001b[38;5;66;03m# if we raise ServerSelectionTimeoutError on the retry\u001b[39;00m\n\u001b[0;32m   2351\u001b[0m     \u001b[38;5;66;03m# attempt. Raise the original exception instead.\u001b[39;00m\n\u001b[0;32m   2352\u001b[0m     \u001b[38;5;28mself\u001b[39m\u001b[38;5;241m.\u001b[39m_check_last_error()\n",
      "File \u001b[1;32mc:\\Users\\LENOVO\\AppData\\Local\\Programs\\Python\\Python311\\Lib\\site-packages\\pymongo\\mongo_client.py:2450\u001b[0m, in \u001b[0;36m_ClientConnectionRetryable._write\u001b[1;34m(self)\u001b[0m\n\u001b[0;32m   2448\u001b[0m max_wire_version \u001b[38;5;241m=\u001b[39m \u001b[38;5;241m0\u001b[39m\n\u001b[0;32m   2449\u001b[0m is_mongos \u001b[38;5;241m=\u001b[39m \u001b[38;5;28;01mFalse\u001b[39;00m\n\u001b[1;32m-> 2450\u001b[0m \u001b[38;5;28mself\u001b[39m\u001b[38;5;241m.\u001b[39m_server \u001b[38;5;241m=\u001b[39m \u001b[38;5;28;43mself\u001b[39;49m\u001b[38;5;241;43m.\u001b[39;49m\u001b[43m_get_server\u001b[49m\u001b[43m(\u001b[49m\u001b[43m)\u001b[49m\n\u001b[0;32m   2451\u001b[0m \u001b[38;5;28;01mwith\u001b[39;00m \u001b[38;5;28mself\u001b[39m\u001b[38;5;241m.\u001b[39m_client\u001b[38;5;241m.\u001b[39m_checkout(\u001b[38;5;28mself\u001b[39m\u001b[38;5;241m.\u001b[39m_server, \u001b[38;5;28mself\u001b[39m\u001b[38;5;241m.\u001b[39m_session) \u001b[38;5;28;01mas\u001b[39;00m conn:\n\u001b[0;32m   2452\u001b[0m     max_wire_version \u001b[38;5;241m=\u001b[39m conn\u001b[38;5;241m.\u001b[39mmax_wire_version\n",
      "File \u001b[1;32mc:\\Users\\LENOVO\\AppData\\Local\\Programs\\Python\\Python311\\Lib\\site-packages\\pymongo\\mongo_client.py:2433\u001b[0m, in \u001b[0;36m_ClientConnectionRetryable._get_server\u001b[1;34m(self)\u001b[0m\n\u001b[0;32m   2428\u001b[0m \u001b[38;5;28;01mdef\u001b[39;00m \u001b[38;5;21m_get_server\u001b[39m(\u001b[38;5;28mself\u001b[39m) \u001b[38;5;241m-\u001b[39m\u001b[38;5;241m>\u001b[39m Server:\n\u001b[0;32m   2429\u001b[0m \u001b[38;5;250m    \u001b[39m\u001b[38;5;124;03m\"\"\"Retrieves a server object based on provided object context\u001b[39;00m\n\u001b[0;32m   2430\u001b[0m \n\u001b[0;32m   2431\u001b[0m \u001b[38;5;124;03m    :return: Abstraction to connect to server\u001b[39;00m\n\u001b[0;32m   2432\u001b[0m \u001b[38;5;124;03m    \"\"\"\u001b[39;00m\n\u001b[1;32m-> 2433\u001b[0m     \u001b[38;5;28;01mreturn\u001b[39;00m \u001b[38;5;28;43mself\u001b[39;49m\u001b[38;5;241;43m.\u001b[39;49m\u001b[43m_client\u001b[49m\u001b[38;5;241;43m.\u001b[39;49m\u001b[43m_select_server\u001b[49m\u001b[43m(\u001b[49m\n\u001b[0;32m   2434\u001b[0m \u001b[43m        \u001b[49m\u001b[38;5;28;43mself\u001b[39;49m\u001b[38;5;241;43m.\u001b[39;49m\u001b[43m_server_selector\u001b[49m\u001b[43m,\u001b[49m\n\u001b[0;32m   2435\u001b[0m \u001b[43m        \u001b[49m\u001b[38;5;28;43mself\u001b[39;49m\u001b[38;5;241;43m.\u001b[39;49m\u001b[43m_session\u001b[49m\u001b[43m,\u001b[49m\n\u001b[0;32m   2436\u001b[0m \u001b[43m        \u001b[49m\u001b[38;5;28;43mself\u001b[39;49m\u001b[38;5;241;43m.\u001b[39;49m\u001b[43m_operation\u001b[49m\u001b[43m,\u001b[49m\n\u001b[0;32m   2437\u001b[0m \u001b[43m        \u001b[49m\u001b[43maddress\u001b[49m\u001b[38;5;241;43m=\u001b[39;49m\u001b[38;5;28;43mself\u001b[39;49m\u001b[38;5;241;43m.\u001b[39;49m\u001b[43m_address\u001b[49m\u001b[43m,\u001b[49m\n\u001b[0;32m   2438\u001b[0m \u001b[43m        \u001b[49m\u001b[43mdeprioritized_servers\u001b[49m\u001b[38;5;241;43m=\u001b[39;49m\u001b[38;5;28;43mself\u001b[39;49m\u001b[38;5;241;43m.\u001b[39;49m\u001b[43m_deprioritized_servers\u001b[49m\u001b[43m,\u001b[49m\n\u001b[0;32m   2439\u001b[0m \u001b[43m        \u001b[49m\u001b[43moperation_id\u001b[49m\u001b[38;5;241;43m=\u001b[39;49m\u001b[38;5;28;43mself\u001b[39;49m\u001b[38;5;241;43m.\u001b[39;49m\u001b[43m_operation_id\u001b[49m\u001b[43m,\u001b[49m\n\u001b[0;32m   2440\u001b[0m \u001b[43m    \u001b[49m\u001b[43m)\u001b[49m\n",
      "File \u001b[1;32mc:\\Users\\LENOVO\\AppData\\Local\\Programs\\Python\\Python311\\Lib\\site-packages\\pymongo\\mongo_client.py:1316\u001b[0m, in \u001b[0;36mMongoClient._select_server\u001b[1;34m(self, server_selector, session, operation, address, deprioritized_servers, operation_id)\u001b[0m\n\u001b[0;32m   1314\u001b[0m             \u001b[38;5;28;01mraise\u001b[39;00m AutoReconnect(\u001b[38;5;124m\"\u001b[39m\u001b[38;5;124mserver \u001b[39m\u001b[38;5;132;01m%s\u001b[39;00m\u001b[38;5;124m:\u001b[39m\u001b[38;5;132;01m%s\u001b[39;00m\u001b[38;5;124m no longer available\u001b[39m\u001b[38;5;124m\"\u001b[39m \u001b[38;5;241m%\u001b[39m address)  \u001b[38;5;66;03m# noqa: UP031\u001b[39;00m\n\u001b[0;32m   1315\u001b[0m     \u001b[38;5;28;01melse\u001b[39;00m:\n\u001b[1;32m-> 1316\u001b[0m         server \u001b[38;5;241m=\u001b[39m \u001b[43mtopology\u001b[49m\u001b[38;5;241;43m.\u001b[39;49m\u001b[43mselect_server\u001b[49m\u001b[43m(\u001b[49m\n\u001b[0;32m   1317\u001b[0m \u001b[43m            \u001b[49m\u001b[43mserver_selector\u001b[49m\u001b[43m,\u001b[49m\n\u001b[0;32m   1318\u001b[0m \u001b[43m            \u001b[49m\u001b[43moperation\u001b[49m\u001b[43m,\u001b[49m\n\u001b[0;32m   1319\u001b[0m \u001b[43m            \u001b[49m\u001b[43mdeprioritized_servers\u001b[49m\u001b[38;5;241;43m=\u001b[39;49m\u001b[43mdeprioritized_servers\u001b[49m\u001b[43m,\u001b[49m\n\u001b[0;32m   1320\u001b[0m \u001b[43m            \u001b[49m\u001b[43moperation_id\u001b[49m\u001b[38;5;241;43m=\u001b[39;49m\u001b[43moperation_id\u001b[49m\u001b[43m,\u001b[49m\n\u001b[0;32m   1321\u001b[0m \u001b[43m        \u001b[49m\u001b[43m)\u001b[49m\n\u001b[0;32m   1322\u001b[0m     \u001b[38;5;28;01mreturn\u001b[39;00m server\n\u001b[0;32m   1323\u001b[0m \u001b[38;5;28;01mexcept\u001b[39;00m PyMongoError \u001b[38;5;28;01mas\u001b[39;00m exc:\n\u001b[0;32m   1324\u001b[0m     \u001b[38;5;66;03m# Server selection errors in a transaction are transient.\u001b[39;00m\n",
      "File \u001b[1;32mc:\\Users\\LENOVO\\AppData\\Local\\Programs\\Python\\Python311\\Lib\\site-packages\\pymongo\\topology.py:369\u001b[0m, in \u001b[0;36mTopology.select_server\u001b[1;34m(self, selector, operation, server_selection_timeout, address, deprioritized_servers, operation_id)\u001b[0m\n\u001b[0;32m    359\u001b[0m \u001b[38;5;28;01mdef\u001b[39;00m \u001b[38;5;21mselect_server\u001b[39m(\n\u001b[0;32m    360\u001b[0m     \u001b[38;5;28mself\u001b[39m,\n\u001b[0;32m    361\u001b[0m     selector: Callable[[Selection], Selection],\n\u001b[1;32m   (...)\u001b[0m\n\u001b[0;32m    366\u001b[0m     operation_id: Optional[\u001b[38;5;28mint\u001b[39m] \u001b[38;5;241m=\u001b[39m \u001b[38;5;28;01mNone\u001b[39;00m,\n\u001b[0;32m    367\u001b[0m ) \u001b[38;5;241m-\u001b[39m\u001b[38;5;241m>\u001b[39m Server:\n\u001b[0;32m    368\u001b[0m \u001b[38;5;250m    \u001b[39m\u001b[38;5;124;03m\"\"\"Like select_servers, but choose a random server if several match.\"\"\"\u001b[39;00m\n\u001b[1;32m--> 369\u001b[0m     server \u001b[38;5;241m=\u001b[39m \u001b[38;5;28;43mself\u001b[39;49m\u001b[38;5;241;43m.\u001b[39;49m\u001b[43m_select_server\u001b[49m\u001b[43m(\u001b[49m\n\u001b[0;32m    370\u001b[0m \u001b[43m        \u001b[49m\u001b[43mselector\u001b[49m\u001b[43m,\u001b[49m\n\u001b[0;32m    371\u001b[0m \u001b[43m        \u001b[49m\u001b[43moperation\u001b[49m\u001b[43m,\u001b[49m\n\u001b[0;32m    372\u001b[0m \u001b[43m        \u001b[49m\u001b[43mserver_selection_timeout\u001b[49m\u001b[43m,\u001b[49m\n\u001b[0;32m    373\u001b[0m \u001b[43m        \u001b[49m\u001b[43maddress\u001b[49m\u001b[43m,\u001b[49m\n\u001b[0;32m    374\u001b[0m \u001b[43m        \u001b[49m\u001b[43mdeprioritized_servers\u001b[49m\u001b[43m,\u001b[49m\n\u001b[0;32m    375\u001b[0m \u001b[43m        \u001b[49m\u001b[43moperation_id\u001b[49m\u001b[38;5;241;43m=\u001b[39;49m\u001b[43moperation_id\u001b[49m\u001b[43m,\u001b[49m\n\u001b[0;32m    376\u001b[0m \u001b[43m    \u001b[49m\u001b[43m)\u001b[49m\n\u001b[0;32m    377\u001b[0m     \u001b[38;5;28;01mif\u001b[39;00m _csot\u001b[38;5;241m.\u001b[39mget_timeout():\n\u001b[0;32m    378\u001b[0m         _csot\u001b[38;5;241m.\u001b[39mset_rtt(server\u001b[38;5;241m.\u001b[39mdescription\u001b[38;5;241m.\u001b[39mmin_round_trip_time)\n",
      "File \u001b[1;32mc:\\Users\\LENOVO\\AppData\\Local\\Programs\\Python\\Python311\\Lib\\site-packages\\pymongo\\topology.py:347\u001b[0m, in \u001b[0;36mTopology._select_server\u001b[1;34m(self, selector, operation, server_selection_timeout, address, deprioritized_servers, operation_id)\u001b[0m\n\u001b[0;32m    338\u001b[0m \u001b[38;5;28;01mdef\u001b[39;00m \u001b[38;5;21m_select_server\u001b[39m(\n\u001b[0;32m    339\u001b[0m     \u001b[38;5;28mself\u001b[39m,\n\u001b[0;32m    340\u001b[0m     selector: Callable[[Selection], Selection],\n\u001b[1;32m   (...)\u001b[0m\n\u001b[0;32m    345\u001b[0m     operation_id: Optional[\u001b[38;5;28mint\u001b[39m] \u001b[38;5;241m=\u001b[39m \u001b[38;5;28;01mNone\u001b[39;00m,\n\u001b[0;32m    346\u001b[0m ) \u001b[38;5;241m-\u001b[39m\u001b[38;5;241m>\u001b[39m Server:\n\u001b[1;32m--> 347\u001b[0m     servers \u001b[38;5;241m=\u001b[39m \u001b[38;5;28;43mself\u001b[39;49m\u001b[38;5;241;43m.\u001b[39;49m\u001b[43mselect_servers\u001b[49m\u001b[43m(\u001b[49m\n\u001b[0;32m    348\u001b[0m \u001b[43m        \u001b[49m\u001b[43mselector\u001b[49m\u001b[43m,\u001b[49m\u001b[43m \u001b[49m\u001b[43moperation\u001b[49m\u001b[43m,\u001b[49m\u001b[43m \u001b[49m\u001b[43mserver_selection_timeout\u001b[49m\u001b[43m,\u001b[49m\u001b[43m \u001b[49m\u001b[43maddress\u001b[49m\u001b[43m,\u001b[49m\u001b[43m \u001b[49m\u001b[43moperation_id\u001b[49m\n\u001b[0;32m    349\u001b[0m \u001b[43m    \u001b[49m\u001b[43m)\u001b[49m\n\u001b[0;32m    350\u001b[0m     servers \u001b[38;5;241m=\u001b[39m _filter_servers(servers, deprioritized_servers)\n\u001b[0;32m    351\u001b[0m     \u001b[38;5;28;01mif\u001b[39;00m \u001b[38;5;28mlen\u001b[39m(servers) \u001b[38;5;241m==\u001b[39m \u001b[38;5;241m1\u001b[39m:\n",
      "File \u001b[1;32mc:\\Users\\LENOVO\\AppData\\Local\\Programs\\Python\\Python311\\Lib\\site-packages\\pymongo\\topology.py:254\u001b[0m, in \u001b[0;36mTopology.select_servers\u001b[1;34m(self, selector, operation, server_selection_timeout, address, operation_id)\u001b[0m\n\u001b[0;32m    251\u001b[0m     server_timeout \u001b[38;5;241m=\u001b[39m server_selection_timeout\n\u001b[0;32m    253\u001b[0m \u001b[38;5;28;01mwith\u001b[39;00m \u001b[38;5;28mself\u001b[39m\u001b[38;5;241m.\u001b[39m_lock:\n\u001b[1;32m--> 254\u001b[0m     server_descriptions \u001b[38;5;241m=\u001b[39m \u001b[38;5;28;43mself\u001b[39;49m\u001b[38;5;241;43m.\u001b[39;49m\u001b[43m_select_servers_loop\u001b[49m\u001b[43m(\u001b[49m\n\u001b[0;32m    255\u001b[0m \u001b[43m        \u001b[49m\u001b[43mselector\u001b[49m\u001b[43m,\u001b[49m\u001b[43m \u001b[49m\u001b[43mserver_timeout\u001b[49m\u001b[43m,\u001b[49m\u001b[43m \u001b[49m\u001b[43moperation\u001b[49m\u001b[43m,\u001b[49m\u001b[43m \u001b[49m\u001b[43moperation_id\u001b[49m\u001b[43m,\u001b[49m\u001b[43m \u001b[49m\u001b[43maddress\u001b[49m\n\u001b[0;32m    256\u001b[0m \u001b[43m    \u001b[49m\u001b[43m)\u001b[49m\n\u001b[0;32m    258\u001b[0m     \u001b[38;5;28;01mreturn\u001b[39;00m [\n\u001b[0;32m    259\u001b[0m         cast(Server, \u001b[38;5;28mself\u001b[39m\u001b[38;5;241m.\u001b[39mget_server_by_address(sd\u001b[38;5;241m.\u001b[39maddress)) \u001b[38;5;28;01mfor\u001b[39;00m sd \u001b[38;5;129;01min\u001b[39;00m server_descriptions\n\u001b[0;32m    260\u001b[0m     ]\n",
      "File \u001b[1;32mc:\\Users\\LENOVO\\AppData\\Local\\Programs\\Python\\Python311\\Lib\\site-packages\\pymongo\\topology.py:328\u001b[0m, in \u001b[0;36mTopology._select_servers_loop\u001b[1;34m(self, selector, timeout, operation, operation_id, address)\u001b[0m\n\u001b[0;32m    322\u001b[0m \u001b[38;5;28mself\u001b[39m\u001b[38;5;241m.\u001b[39m_request_check_all()\n\u001b[0;32m    324\u001b[0m \u001b[38;5;66;03m# Release the lock and wait for the topology description to\u001b[39;00m\n\u001b[0;32m    325\u001b[0m \u001b[38;5;66;03m# change, or for a timeout. We won't miss any changes that\u001b[39;00m\n\u001b[0;32m    326\u001b[0m \u001b[38;5;66;03m# came after our most recent apply_selector call, since we've\u001b[39;00m\n\u001b[0;32m    327\u001b[0m \u001b[38;5;66;03m# held the lock until now.\u001b[39;00m\n\u001b[1;32m--> 328\u001b[0m \u001b[38;5;28;43mself\u001b[39;49m\u001b[38;5;241;43m.\u001b[39;49m\u001b[43m_condition\u001b[49m\u001b[38;5;241;43m.\u001b[39;49m\u001b[43mwait\u001b[49m\u001b[43m(\u001b[49m\u001b[43mcommon\u001b[49m\u001b[38;5;241;43m.\u001b[39;49m\u001b[43mMIN_HEARTBEAT_INTERVAL\u001b[49m\u001b[43m)\u001b[49m\n\u001b[0;32m    329\u001b[0m \u001b[38;5;28mself\u001b[39m\u001b[38;5;241m.\u001b[39m_description\u001b[38;5;241m.\u001b[39mcheck_compatible()\n\u001b[0;32m    330\u001b[0m now \u001b[38;5;241m=\u001b[39m time\u001b[38;5;241m.\u001b[39mmonotonic()\n",
      "File \u001b[1;32mc:\\Users\\LENOVO\\AppData\\Local\\Programs\\Python\\Python311\\Lib\\threading.py:324\u001b[0m, in \u001b[0;36mCondition.wait\u001b[1;34m(self, timeout)\u001b[0m\n\u001b[0;32m    322\u001b[0m \u001b[38;5;28;01melse\u001b[39;00m:\n\u001b[0;32m    323\u001b[0m     \u001b[38;5;28;01mif\u001b[39;00m timeout \u001b[38;5;241m>\u001b[39m \u001b[38;5;241m0\u001b[39m:\n\u001b[1;32m--> 324\u001b[0m         gotit \u001b[38;5;241m=\u001b[39m \u001b[43mwaiter\u001b[49m\u001b[38;5;241;43m.\u001b[39;49m\u001b[43macquire\u001b[49m\u001b[43m(\u001b[49m\u001b[38;5;28;43;01mTrue\u001b[39;49;00m\u001b[43m,\u001b[49m\u001b[43m \u001b[49m\u001b[43mtimeout\u001b[49m\u001b[43m)\u001b[49m\n\u001b[0;32m    325\u001b[0m     \u001b[38;5;28;01melse\u001b[39;00m:\n\u001b[0;32m    326\u001b[0m         gotit \u001b[38;5;241m=\u001b[39m waiter\u001b[38;5;241m.\u001b[39macquire(\u001b[38;5;28;01mFalse\u001b[39;00m)\n",
      "\u001b[1;31mKeyboardInterrupt\u001b[0m: "
     ]
    }
   ],
   "source": [
    "# Koneksi ke MongoDB lokal\n",
    "local_client = MongoClient(local_url)\n",
    "local_db = local_client[database_name]\n",
    "local_collection = local_db[collection_name]\n",
    "\n",
    "# Koneksi ke MongoDB Atlas\n",
    "atlas_client = MongoClient(mongodb_url)\n",
    "atlas_db = atlas_client[database_name]\n",
    "atlas_collection = atlas_db[collection_name]\n",
    "\n",
    "# Ambil semua dokumen dari koleksi MongoDB lokal\n",
    "documents = list(local_collection.find())\n",
    "\n",
    "# Masukkan dokumen ke MongoDB Atlas\n",
    "if documents:\n",
    "    atlas_collection.insert_many(documents)\n",
    "    print(f'{len(documents)} dokumen berhasil dipindahkan dari MongoDB lokal ke MongoDB Atlas.')\n",
    "else:\n",
    "    print('Tidak ada dokumen yang ditemukan di MongoDB lokal.')\n",
    "\n",
    "# Tutup koneksi\n",
    "local_client.close()\n",
    "atlas_client.close()"
   ]
  }
 ],
 "metadata": {
  "kernelspec": {
   "display_name": "Python 3",
   "language": "python",
   "name": "python3"
  },
  "language_info": {
   "codemirror_mode": {
    "name": "ipython",
    "version": 3
   },
   "file_extension": ".py",
   "mimetype": "text/x-python",
   "name": "python",
   "nbconvert_exporter": "python",
   "pygments_lexer": "ipython3",
   "version": "3.11.5"
  }
 },
 "nbformat": 4,
 "nbformat_minor": 2
}

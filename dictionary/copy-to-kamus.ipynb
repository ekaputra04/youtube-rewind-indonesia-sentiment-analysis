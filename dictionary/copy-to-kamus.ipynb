{
 "cells": [
  {
   "cell_type": "code",
   "execution_count": 2,
   "metadata": {},
   "outputs": [
    {
     "name": "stdout",
     "output_type": "stream",
     "text": [
      "Penambahan kata selesai.\n"
     ]
    }
   ],
   "source": [
    "import pandas as pd\n",
    "\n",
    "# Membaca data dari no-word-round-1-full.csv\n",
    "df_full = pd.read_csv('no-word-data-training-3-full.csv')\n",
    "\n",
    "# Mengisi nilai NaN pada kolom 'clean' dengan nilai dari kolom 'word'\n",
    "# df_full['normalisasi'] = df_full['normalisasi'].fillna(df_full['word'])\n",
    "\n",
    "# Mendapatkan kata-kata dari kolom 'normalisasi'\n",
    "new_words = df_full['normalisasi'].tolist()\n",
    "\n",
    "# Menambahkan kata-kata baru ke dalam file kamus-dasar-bahasa-indonesia-new.txt\n",
    "with open('kamus-dasar-bahasa-indonesia-new-2.csv', 'a', encoding='utf-8') as file:\n",
    "    for word in new_words:\n",
    "        file.write(f'{word}\\n')\n",
    "\n",
    "print(\"Penambahan kata selesai.\")\n"
   ]
  }
 ],
 "metadata": {
  "kernelspec": {
   "display_name": "Python 3",
   "language": "python",
   "name": "python3"
  },
  "language_info": {
   "codemirror_mode": {
    "name": "ipython",
    "version": 3
   },
   "file_extension": ".py",
   "mimetype": "text/x-python",
   "name": "python",
   "nbconvert_exporter": "python",
   "pygments_lexer": "ipython3",
   "version": "3.11.5"
  }
 },
 "nbformat": 4,
 "nbformat_minor": 2
}

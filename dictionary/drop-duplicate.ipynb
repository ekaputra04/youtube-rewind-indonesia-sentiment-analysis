{
 "cells": [
  {
   "cell_type": "code",
   "execution_count": null,
   "metadata": {},
   "outputs": [],
   "source": [
    "import pandas as pd\n",
    "\n",
    "# Muat data dari file no-word.csv\n",
    "df = pd.read_csv('kamus-dasar-bahasa-indonesia-new.csv', header=None, names=['kata'])\n",
    "\n",
    "# Hapus data yang duplikat\n",
    "df_unique = df.drop_duplicates()\n",
    "\n",
    "# Simpan hasil kembali ke file no-word.csv\n",
    "df_unique.to_csv('kamus-dasar-bahasa-indonesia-clean.csv', index=False, header=False)\n"
   ]
  }
 ],
 "metadata": {
  "kernelspec": {
   "display_name": "Python 3",
   "language": "python",
   "name": "python3"
  },
  "language_info": {
   "codemirror_mode": {
    "name": "ipython",
    "version": 3
   },
   "file_extension": ".py",
   "mimetype": "text/x-python",
   "name": "python",
   "nbconvert_exporter": "python",
   "pygments_lexer": "ipython3",
   "version": "3.11.5"
  }
 },
 "nbformat": 4,
 "nbformat_minor": 2
}

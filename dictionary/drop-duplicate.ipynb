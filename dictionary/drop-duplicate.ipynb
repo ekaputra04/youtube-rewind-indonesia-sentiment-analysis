{
 "cells": [
  {
   "cell_type": "code",
   "execution_count": 4,
   "metadata": {},
   "outputs": [
    {
     "name": "stdout",
     "output_type": "stream",
     "text": [
      "Proses selesai.\n"
     ]
    }
   ],
   "source": [
    "import pandas as pd\n",
    "\n",
    "# Muat data dari file CSV\n",
    "df = pd.read_csv('kamus-dasar-bahasa-indonesia-new-2.csv', header=None, names=['kata'])\n",
    "\n",
    "# Inisialisasi list untuk menyimpan kata-kata individual\n",
    "all_words = []\n",
    "\n",
    "# Proses setiap baris dalam dataframe\n",
    "for index, row in df.iterrows():\n",
    "    kata = row['kata']\n",
    "    if isinstance(kata, str):  # Memastikan bahwa kata adalah string\n",
    "        words = kata.split()  # Membagi kalimat menjadi kata-kata individual\n",
    "        all_words.extend(words)  # Menambahkan kata-kata ke list all_words\n",
    "\n",
    "# Membuat dataframe baru dengan kata-kata individual\n",
    "df_words = pd.DataFrame(all_words, columns=['kata'])\n",
    "\n",
    "# Hapus data yang duplikat\n",
    "df_unique = df_words.drop_duplicates()\n",
    "\n",
    "# Simpan hasil kembali ke file CSV\n",
    "df_unique.to_csv('kamus-dasar-bahasa-indonesia-clean.csv', index=False, header=False)\n",
    "\n",
    "print(\"Proses selesai.\")\n"
   ]
  }
 ],
 "metadata": {
  "kernelspec": {
   "display_name": "Python 3",
   "language": "python",
   "name": "python3"
  },
  "language_info": {
   "codemirror_mode": {
    "name": "ipython",
    "version": 3
   },
   "file_extension": ".py",
   "mimetype": "text/x-python",
   "name": "python",
   "nbconvert_exporter": "python",
   "pygments_lexer": "ipython3",
   "version": "3.11.5"
  }
 },
 "nbformat": 4,
 "nbformat_minor": 2
}

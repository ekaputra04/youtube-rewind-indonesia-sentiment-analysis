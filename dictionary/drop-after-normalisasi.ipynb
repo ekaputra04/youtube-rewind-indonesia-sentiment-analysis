{
 "cells": [
  {
   "cell_type": "code",
   "execution_count": 3,
   "metadata": {},
   "outputs": [
    {
     "name": "stdout",
     "output_type": "stream",
     "text": [
      "Atribut afterNormalisasi dihapus dari 60000 dokumen.\n"
     ]
    }
   ],
   "source": [
    "from pymongo import MongoClient\n",
    "\n",
    "# Konfigurasi koneksi MongoDB\n",
    "client = MongoClient(\"mongodb://localhost:27017/\")\n",
    "db = client[\"youtube_rewind_indonesia\"]  # Ganti dengan nama database Anda\n",
    "collection = db[\"full_labeling_all_new\"]  # Ganti dengan nama koleksi Anda\n",
    "\n",
    "# Menghapus atribut afterNormalisasi dari semua dokumen\n",
    "result = collection.update_many({}, {'$unset': {'afterNormalisasi': \"\"}})\n",
    "\n",
    "print(f\"Atribut afterNormalisasi dihapus dari {result.modified_count} dokumen.\")\n"
   ]
  }
 ],
 "metadata": {
  "kernelspec": {
   "display_name": "Python 3",
   "language": "python",
   "name": "python3"
  },
  "language_info": {
   "codemirror_mode": {
    "name": "ipython",
    "version": 3
   },
   "file_extension": ".py",
   "mimetype": "text/x-python",
   "name": "python",
   "nbconvert_exporter": "python",
   "pygments_lexer": "ipython3",
   "version": "3.11.5"
  }
 },
 "nbformat": 4,
 "nbformat_minor": 2
}
